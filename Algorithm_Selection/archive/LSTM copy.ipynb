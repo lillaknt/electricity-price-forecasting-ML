{
 "cells": [
  {
   "cell_type": "code",
   "execution_count": null,
   "metadata": {},
   "outputs": [],
   "source": [
    "import pandas as pd\n",
    "import os\n",
    "import sys\n",
    "\n",
    "# Get the directory of the current script\n",
    "try:\n",
    "    # This will work if the script is being run as a file\n",
    "    current_dir = os.path.dirname(os.path.abspath(__file__))\n",
    "except NameError:\n",
    "    # Use the current working directory if __file__ is not defined\n",
    "    current_dir = os.getcwd()\n",
    "# Move up one directory level from EDA to the parent directory\n",
    "parent_dir = os.path.dirname(current_dir)\n",
    "# Construct the path to the xdrive folder\n",
    "xdrive_path = os.path.join(parent_dir, 'xdrive')\n",
    "# Add the xdrive path to sys.path\n",
    "sys.path.append(xdrive_path)\n",
    "\n",
    "pipeline_path = os.path.join(parent_dir, 'Pipeline')\n",
    "# Add the xdrive path to sys.path\n",
    "sys.path.append(pipeline_path)"
   ]
  },
  {
   "cell_type": "code",
   "execution_count": null,
   "metadata": {},
   "outputs": [],
   "source": [
    "from build_a_pipeline2 import build_pipeline\n",
    "\n",
    "\n",
    "x_train, x_val, x_test, y_train, y_val, y_test= build_pipeline()\n"
   ]
  },
  {
   "cell_type": "code",
   "execution_count": null,
   "metadata": {},
   "outputs": [],
   "source": [
    "x_train"
   ]
  },
  {
   "cell_type": "code",
   "execution_count": null,
   "metadata": {},
   "outputs": [],
   "source": [
    "x_val"
   ]
  },
  {
   "cell_type": "code",
   "execution_count": null,
   "metadata": {},
   "outputs": [],
   "source": [
    "x_test"
   ]
  },
  {
   "cell_type": "code",
   "execution_count": null,
   "metadata": {},
   "outputs": [],
   "source": [
    "import numpy as np\n",
    "from tensorflow.keras.models import Sequential\n",
    "from tensorflow.keras.layers import LSTM, Dense, Dropout\n",
    "\n",
    "from sklearn.metrics import mean_squared_error\n",
    "\n",
    "# Assuming x_train, x_val, y_train, y_val are already defined as NumPy arrays.\n",
    "# x_train, x_val should have the shape [samples, time_steps, features]\n",
    "# y_train, y_val should have the shape [samples]\n",
    "\n",
    "# Example shapes\n",
    "print(f\"x_train shape: {x_train.shape}, y_train shape: {y_train.shape}\")\n",
    "print(f\"x_val shape: {x_val.shape}, y_val shape: {y_val.shape}\")\n",
    "\n",
    "# Convert x_train and x_val to NumPy arrays\n",
    "x_train = x_train.to_numpy()\n",
    "x_val = x_val.to_numpy()\n",
    "# Reshape x_train and x_val to have the required 3D shape\n",
    "x_train = x_train.reshape(x_train.shape[0], 1, x_train.shape[1])  # [samples, time_steps=1, features]\n",
    "x_val = x_val.reshape(x_val.shape[0], 1, x_val.shape[1])     \n",
    "\n",
    "# 1. Build the LSTM model\n",
    "model = Sequential([\n",
    "    LSTM(100, return_sequences=True, input_shape=(x_train.shape[1], x_train.shape[2])),\n",
    "    Dropout(0.4),\n",
    "    LSTM(100, return_sequences=True),\n",
    "    Dropout(0.4),\n",
    "    LSTM(100, return_sequences=True),\n",
    "    Dropout(0.4),\n",
    "    Dense(25, activation='relu'),  # Dense layer with 25 neurons\n",
    "    Dropout(0.4),\n",
    "    Dense(1)  # Output layer for price prediction\n",
    "])\n",
    "\n",
    "\n",
    "# 2. Compile the model\n",
    "model.compile(optimizer='adam', loss='mean_squared_error')\n",
    "\n",
    "# 3. Train the model\n",
    "history = model.fit(\n",
    "    x_train, y_train,\n",
    "    validation_data=(x_val, y_val),\n",
    "    epochs=100,\n",
    "    batch_size=32,\n",
    "    verbose=1\n",
    ")\n",
    "\n",
    "# 4. Evaluate the model\n",
    "train_predictions = model.predict(x_train)\n",
    "val_predictions = model.predict(x_val)\n",
    "\n",
    "# Calculate Mean Squared Error\n",
    "train_mse = mean_squared_error(y_train, train_predictions)\n",
    "val_mse = mean_squared_error(y_val, val_predictions)\n",
    "\n",
    "print(f\"Train MSE: {train_mse}\")\n",
    "print(f\"Validation MSE: {val_mse}\")\n",
    "\n",
    "# 5. Make future predictions\n",
    "# Example: Predict on validation set\n",
    "future_predictions = model.predict(x_val)\n",
    "\n",
    "# Example: Scaling back the predictions (if scaled earlier)\n",
    "# scaler = MinMaxScaler()\n",
    "# y_val_unscaled = scaler.inverse_transform(y_val.reshape(-1, 1))\n",
    "# future_predictions_unscaled = scaler.inverse_transform(future_predictions)\n",
    "\n",
    "print(f\"Predicted values: {future_predictions.flatten()}\")"
   ]
  }
 ],
 "metadata": {
  "kernelspec": {
   "display_name": "Python 3",
   "language": "python",
   "name": "python3"
  },
  "language_info": {
   "codemirror_mode": {
    "name": "ipython",
    "version": 3
   },
   "file_extension": ".py",
   "mimetype": "text/x-python",
   "name": "python",
   "nbconvert_exporter": "python",
   "pygments_lexer": "ipython3",
   "version": "3.12.4"
  }
 },
 "nbformat": 4,
 "nbformat_minor": 2
}
