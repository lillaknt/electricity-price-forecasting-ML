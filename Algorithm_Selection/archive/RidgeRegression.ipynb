{
 "cells": [
  {
   "cell_type": "code",
   "execution_count": null,
   "metadata": {},
   "outputs": [],
   "source": [
    "from sklearn.model_selection import train_test_split\n",
    "import pandas as pd\n",
    "import os\n",
    "import sys\n",
    "from sklearn.model_selection import TimeSeriesSplit\n",
    "from sklearn.preprocessing import StandardScaler, MinMaxScaler\n",
    "# Get the directory of the current script\n",
    "try:\n",
    "    # This will work if the script is being run as a file\n",
    "    current_dir = os.path.dirname(os.path.abspath(__file__))\n",
    "except NameError:\n",
    "    # Use the current working directory if __file__ is not defined\n",
    "    current_dir = os.getcwd()\n",
    "\n",
    "from build_a_pipeline import build_pipeline_P0_foward_price\n",
    "from tensorflow.keras.models import Sequential\n",
    "from tensorflow.keras.layers import LSTM, Dense, Flatten, Dropout\n",
    "from tensorflow.keras.callbacks import ModelCheckpoint, EarlyStopping\n",
    "from tensorflow.keras.optimizers import Adam\n",
    "import numpy as np\n",
    "from tensorflow.keras.models import Sequential\n",
    "from tensorflow.keras.layers import LSTM, Dense, Dropout\n",
    "from sklearn.preprocessing import MinMaxScaler\n",
    "from sklearn.metrics import mean_squared_error\n",
    "import tensorflow as tf\n",
    "from tensorflow.keras.models import Sequential\n",
    "from tensorflow.keras.layers import LSTM, Dense, Flatten, Dropout\n",
    "from tensorflow.keras.callbacks import ModelCheckpoint, EarlyStopping\n",
    "from tensorflow.keras.optimizers import Adam\n",
    "from tensorflow.keras.layers import TimeDistributed, Dense"
   ]
  },
  {
   "cell_type": "code",
   "execution_count": 25,
   "metadata": {},
   "outputs": [
    {
     "name": "stderr",
     "output_type": "stream",
     "text": [
      "c:\\Users\\veron\\Desktop\\9th semester\\Bachelor1\\Code\\BachelorProject\\Feature Engineering\\split_test_and_train.py:32: SettingWithCopyWarning: \n",
      "A value is trying to be set on a copy of a slice from a DataFrame.\n",
      "Try using .loc[row_indexer,col_indexer] = value instead\n",
      "\n",
      "See the caveats in the documentation: https://pandas.pydata.org/pandas-docs/stable/user_guide/indexing.html#returning-a-view-versus-a-copy\n",
      "  X['DateTime'] = (X['DateTime'] - pd.Timestamp('1970-01-01')) // pd.Timedelta('1s')\n",
      "c:\\Users\\veron\\Desktop\\9th semester\\Bachelor1\\Code\\BachelorProject\\Feature Engineering\\split_test_and_train.py:33: SettingWithCopyWarning: \n",
      "A value is trying to be set on a copy of a slice from a DataFrame.\n",
      "Try using .loc[row_indexer,col_indexer] = value instead\n",
      "\n",
      "See the caveats in the documentation: https://pandas.pydata.org/pandas-docs/stable/user_guide/indexing.html#returning-a-view-versus-a-copy\n",
      "  X['Delivery_Start_Date_Forward_Price'] = pd.to_datetime(X['Delivery_Start_Date_Forward_Price'] )\n",
      "c:\\Users\\veron\\Desktop\\9th semester\\Bachelor1\\Code\\BachelorProject\\Feature Engineering\\split_test_and_train.py:34: SettingWithCopyWarning: \n",
      "A value is trying to be set on a copy of a slice from a DataFrame.\n",
      "Try using .loc[row_indexer,col_indexer] = value instead\n",
      "\n",
      "See the caveats in the documentation: https://pandas.pydata.org/pandas-docs/stable/user_guide/indexing.html#returning-a-view-versus-a-copy\n",
      "  X['Delivery_Start_Date_Forward_Price'] = (X['Delivery_Start_Date_Forward_Price'] - pd.Timestamp('1970-01-01')) // pd.Timedelta('1s')\n"
     ]
    }
   ],
   "source": [
    "from build_a_pipeline import make_simple_pipeline\n",
    "from build_a_pipeline import make_simple_PCA_pipeline\n",
    "\n",
    "#X_test,y_test, X_train, X_val, y_train, y_val = make_simple_pipeline()\n",
    "X_test,y_test, X_train, X_val, y_train, y_val = make_simple_PCA_pipeline(2)"
   ]
  },
  {
   "cell_type": "code",
   "execution_count": 26,
   "metadata": {},
   "outputs": [
    {
     "data": {
      "text/plain": [
       "(10387, 2)"
      ]
     },
     "execution_count": 26,
     "metadata": {},
     "output_type": "execute_result"
    }
   ],
   "source": [
    "X_test.shape"
   ]
  },
  {
   "cell_type": "code",
   "execution_count": 27,
   "metadata": {},
   "outputs": [
    {
     "data": {
      "text/plain": [
       "(48466, 2)"
      ]
     },
     "execution_count": 27,
     "metadata": {},
     "output_type": "execute_result"
    }
   ],
   "source": [
    "X_train.shape"
   ]
  },
  {
   "cell_type": "code",
   "execution_count": 28,
   "metadata": {},
   "outputs": [
    {
     "name": "stdout",
     "output_type": "stream",
     "text": [
      "Mean Squared Error: 1590.3450380395568\n",
      "Root Mean Squared Error: 39.87913035711231\n",
      "Ridge coefficients: [-3.67719481 10.94773551]\n"
     ]
    }
   ],
   "source": [
    "# Import necessary libraries\n",
    "import pandas as pd\n",
    "from sklearn.model_selection import train_test_split\n",
    "from sklearn.linear_model import Ridge\n",
    "from sklearn.metrics import mean_squared_error\n",
    "import numpy as np\n",
    "\n",
    "\n",
    "# Create a Ridge regression model\n",
    "ridge_model = Ridge(alpha=10)  # You can adjust the alpha parameter for regularization\n",
    "\n",
    "# Train the model on the training data\n",
    "ridge_model.fit(X_train, y_train)\n",
    "\n",
    "# Make predictions on the test data\n",
    "y_pred = ridge_model.predict(X_val)\n",
    "\n",
    "# Evaluate the model performance (using Mean Squared Error as an example)\n",
    "mse = mean_squared_error(y_val, y_pred)\n",
    "rmse = np.sqrt(mse)\n",
    "\n",
    "# Print the results\n",
    "print(f'Mean Squared Error: {mse}')\n",
    "print(f'Root Mean Squared Error: {rmse}')\n",
    "\n",
    "# If needed, you can print the coefficients to see the effect of regularization\n",
    "print(f'Ridge coefficients: {ridge_model.coef_}')"
   ]
  },
  {
   "cell_type": "code",
   "execution_count": 29,
   "metadata": {},
   "outputs": [
    {
     "name": "stdout",
     "output_type": "stream",
     "text": [
      "Mean Squared Error: 1604.0889749366777\n",
      "Root Mean Squared Error: 40.05107957267416\n",
      "Lasso coefficients: [-3.10157103  9.08520668]\n"
     ]
    }
   ],
   "source": [
    "from sklearn.linear_model import Lasso\n",
    "# Create a Lasso regression model\n",
    "lasso_model = Lasso(alpha=10)  # You can adjust the alpha parameter for regularization\n",
    "\n",
    "# Train the model on the training data\n",
    "lasso_model.fit(X_train, y_train)\n",
    "\n",
    "# Make predictions on the test data\n",
    "y_pred = lasso_model.predict(X_val)\n",
    "\n",
    "# Evaluate the model performance (using Mean Squared Error as an example)\n",
    "mse = mean_squared_error(y_val, y_pred)\n",
    "rmse = np.sqrt(mse)\n",
    "\n",
    "# Print the results\n",
    "print(f'Mean Squared Error: {mse}')\n",
    "print(f'Root Mean Squared Error: {rmse}')\n",
    "\n",
    "# If needed, you can print the coefficients to see the effect of regularization\n",
    "print(f'Lasso coefficients: {lasso_model.coef_}')"
   ]
  },
  {
   "cell_type": "code",
   "execution_count": 30,
   "metadata": {},
   "outputs": [
    {
     "name": "stdout",
     "output_type": "stream",
     "text": [
      "ElasticNet MSE: 1591.70694581395\n"
     ]
    }
   ],
   "source": [
    "from sklearn.linear_model import ElasticNet\n",
    "\n",
    "# Create an ElasticNet model\n",
    "elasticnet_model = ElasticNet(alpha=1.0, l1_ratio=0.5)  # l1_ratio = 0.5 means equal mix of Lasso and Ridge\n",
    "\n",
    "# Train and evaluate\n",
    "elasticnet_model.fit(X_train, y_train)\n",
    "y_pred = elasticnet_model.predict(X_val)\n",
    "mse = mean_squared_error(y_val, y_pred)\n",
    "print(f'ElasticNet MSE: {mse}')"
   ]
  },
  {
   "cell_type": "code",
   "execution_count": 31,
   "metadata": {},
   "outputs": [
    {
     "name": "stdout",
     "output_type": "stream",
     "text": [
      "Mean Squared Error (MSE): 1590.3467606189554\n",
      "R-squared (R²): 0.3344776284010236\n",
      "Model Coefficients: [-3.67723849 10.94815632]\n",
      "Intercept: 140.49323009945115\n"
     ]
    }
   ],
   "source": [
    "from sklearn.linear_model import LinearRegression\n",
    "from sklearn.metrics import mean_squared_error, r2_score\n",
    "# 4. Create a Linear Regression model\n",
    "model = LinearRegression()\n",
    "\n",
    "# 5. Train the model on the training data\n",
    "model.fit(X_train, y_train)\n",
    "\n",
    "# 6. Make predictions on the test data\n",
    "y_pred = model.predict(X_val)\n",
    "\n",
    "# 7. Evaluate the model\n",
    "mse = mean_squared_error(y_val, y_pred)\n",
    "r2 = r2_score(y_val, y_pred)\n",
    "\n",
    "# Print evaluation metrics and coefficients\n",
    "print(\"Mean Squared Error (MSE):\", mse)\n",
    "print(\"R-squared (R²):\", r2)\n",
    "print(\"Model Coefficients:\", model.coef_)\n",
    "print(\"Intercept:\", model.intercept_)\n"
   ]
  }
 ],
 "metadata": {
  "kernelspec": {
   "display_name": "Python 3",
   "language": "python",
   "name": "python3"
  },
  "language_info": {
   "codemirror_mode": {
    "name": "ipython",
    "version": 3
   },
   "file_extension": ".py",
   "mimetype": "text/x-python",
   "name": "python",
   "nbconvert_exporter": "python",
   "pygments_lexer": "ipython3",
   "version": "3.10.11"
  }
 },
 "nbformat": 4,
 "nbformat_minor": 2
}
