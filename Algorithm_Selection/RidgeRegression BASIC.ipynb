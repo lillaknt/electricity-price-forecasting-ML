{
 "cells": [
  {
   "cell_type": "markdown",
   "metadata": {},
   "source": [
    "## Prediction of Future Prices using Ridge and Lasso Regression\n",
    "- using simplified pipeline, only hydro inflow features and the settlement prices"
   ]
  },
  {
   "cell_type": "code",
   "execution_count": null,
   "metadata": {},
   "outputs": [],
   "source": [
    "from sklearn.model_selection import train_test_split\n",
    "import pandas as pd\n",
    "import os\n",
    "import sys\n",
    "from sklearn.model_selection import TimeSeriesSplit\n",
    "from sklearn.preprocessing import StandardScaler, MinMaxScaler\n",
    "# Get the directory of the current script\n",
    "try:\n",
    "    # This will work if the script is being run as a file\n",
    "    current_dir = os.path.dirname(os.path.abspath(__file__))\n",
    "except NameError:\n",
    "    # Use the current working directory if __file__ is not defined\n",
    "    current_dir = os.getcwd()\n",
    "# Move up one directory level from EDA to the parent directory\n",
    "parent_dir = os.path.dirname(current_dir)\n",
    "# Construct the path to the xdrive folder\n",
    "xdrive_path = os.path.join(parent_dir, 'xdrive')\n",
    "# Add the xdrive path to sys.path\n",
    "sys.path.append(xdrive_path)\n",
    "\n",
    "featureeng_path = os.path.join(parent_dir, 'Feature Engineering')\n",
    "# Add the xdrive path to sys.path\n",
    "sys.path.append(featureeng_path)\n",
    "# Construct the path to the xdrive folder\n",
    "xdrive_path = os.path.join(parent_dir, 'Pipeline')\n",
    "# Add the xdrive path to sys.path\n",
    "sys.path.append(xdrive_path)\n"
   ]
  },
  {
   "cell_type": "code",
   "execution_count": 1,
   "metadata": {},
   "outputs": [
    {
     "ename": "ModuleNotFoundError",
     "evalue": "No module named 'build_a_pipeline'",
     "output_type": "error",
     "traceback": [
      "\u001b[1;31m---------------------------------------------------------------------------\u001b[0m",
      "\u001b[1;31mModuleNotFoundError\u001b[0m                       Traceback (most recent call last)",
      "Cell \u001b[1;32mIn[1], line 1\u001b[0m\n\u001b[1;32m----> 1\u001b[0m \u001b[38;5;28;01mfrom\u001b[39;00m \u001b[38;5;21;01mbuild_a_pipeline\u001b[39;00m \u001b[38;5;28;01mimport\u001b[39;00m make_simple_pipeline\n\u001b[0;32m      2\u001b[0m \u001b[38;5;28;01mfrom\u001b[39;00m \u001b[38;5;21;01mbuild_a_pipeline\u001b[39;00m \u001b[38;5;28;01mimport\u001b[39;00m make_basic_features_pipeline\n\u001b[0;32m      4\u001b[0m X_test,y_test, X_train, X_val, y_train, y_val \u001b[38;5;241m=\u001b[39m  make_basic_features_pipeline()\n",
      "\u001b[1;31mModuleNotFoundError\u001b[0m: No module named 'build_a_pipeline'"
     ]
    }
   ],
   "source": [
    "from build_a_pipeline import make_simple_pipeline\n",
    "from build_a_pipeline import make_basic_features_pipeline\n",
    "\n",
    "X_test,y_test, X_train, X_val, y_train, y_val =  make_basic_features_pipeline()"
   ]
  },
  {
   "cell_type": "code",
   "execution_count": 3,
   "metadata": {},
   "outputs": [
    {
     "name": "stdout",
     "output_type": "stream",
     "text": [
      "Mean Squared Error: 2271.279892068522\n",
      "Root Mean Squared Error: 47.65794678821699\n",
      "Ridge coefficients: [-21.08848236  -0.59135219  16.97593867  10.44791492  15.82668734\n",
      "   2.1884687  -24.30017316  -7.99341711]\n"
     ]
    }
   ],
   "source": [
    "# Import necessary libraries\n",
    "import pandas as pd\n",
    "from sklearn.model_selection import train_test_split\n",
    "from sklearn.linear_model import Ridge\n",
    "from sklearn.metrics import mean_squared_error\n",
    "import numpy as np\n",
    "\n",
    "\n",
    "# Create a Ridge regression model\n",
    "ridge_model = Ridge(alpha=10)  # You can adjust the alpha parameter for regularization\n",
    "\n",
    "# Train the model on the training data\n",
    "ridge_model.fit(X_train, y_train)\n",
    "\n",
    "# Make predictions on the test data\n",
    "y_pred = ridge_model.predict(X_val)\n",
    "\n",
    "# Evaluate the model performance (using Mean Squared Error as an example)\n",
    "mse = mean_squared_error(y_val, y_pred)\n",
    "rmse = np.sqrt(mse)\n",
    "\n",
    "# Print the results\n",
    "print(f'Mean Squared Error: {mse}')\n",
    "print(f'Root Mean Squared Error: {rmse}')\n",
    "\n",
    "# If needed, you can print the coefficients to see the effect of regularization\n",
    "print(f'Ridge coefficients: {ridge_model.coef_}')"
   ]
  },
  {
   "cell_type": "code",
   "execution_count": 4,
   "metadata": {},
   "outputs": [
    {
     "name": "stdout",
     "output_type": "stream",
     "text": [
      "Mean Squared Error: 2258.7322488473105\n",
      "Root Mean Squared Error: 47.52612175264578\n",
      "Lasso coefficients: [-7.47733928 -0.         11.03970064 -0.          0.         -0.\n",
      " -0.         -0.        ]\n"
     ]
    }
   ],
   "source": [
    "from sklearn.linear_model import Lasso\n",
    "# Create a Lasso regression model\n",
    "lasso_model = Lasso(alpha=10)  # You can adjust the alpha parameter for regularization\n",
    "\n",
    "# Train the model on the training data\n",
    "lasso_model.fit(X_train, y_train)\n",
    "\n",
    "# Make predictions on the test data\n",
    "y_pred = lasso_model.predict(X_val)\n",
    "\n",
    "# Evaluate the model performance (using Mean Squared Error as an example)\n",
    "mse = mean_squared_error(y_val, y_pred)\n",
    "rmse = np.sqrt(mse)\n",
    "\n",
    "# Print the results\n",
    "print(f'Mean Squared Error: {mse}')\n",
    "print(f'Root Mean Squared Error: {rmse}')\n",
    "\n",
    "# If needed, you can print the coefficients to see the effect of regularization\n",
    "print(f'Lasso coefficients: {lasso_model.coef_}')"
   ]
  },
  {
   "cell_type": "code",
   "execution_count": 5,
   "metadata": {},
   "outputs": [
    {
     "name": "stdout",
     "output_type": "stream",
     "text": [
      "ElasticNet MSE: 2251.6630373959724\n"
     ]
    }
   ],
   "source": [
    "from sklearn.linear_model import ElasticNet\n",
    "\n",
    "# Create an ElasticNet model\n",
    "elasticnet_model = ElasticNet(alpha=1.0, l1_ratio=0.5)  # l1_ratio = 0.5 means equal mix of Lasso and Ridge\n",
    "\n",
    "# Train and evaluate\n",
    "elasticnet_model.fit(X_train, y_train)\n",
    "y_pred = elasticnet_model.predict(X_val)\n",
    "mse = mean_squared_error(y_val, y_pred)\n",
    "print(f'ElasticNet MSE: {mse}')"
   ]
  },
  {
   "cell_type": "code",
   "execution_count": 7,
   "metadata": {},
   "outputs": [
    {
     "name": "stdout",
     "output_type": "stream",
     "text": [
      "Mean Squared Error (MSE): 2271.3507392506986\n",
      "R-squared (R²): 0.04949362733263796\n",
      "Model Coefficients: [-21.09625176  -0.59006696  16.97669989  10.46835975  15.84943712\n",
      "   2.19640275 -24.33561686  -8.00185205]\n",
      "Intercept: 140.49323009945115\n"
     ]
    }
   ],
   "source": [
    "from sklearn.linear_model import LinearRegression\n",
    "from sklearn.metrics import mean_squared_error, r2_score\n",
    "# 4. Create a Linear Regression model\n",
    "model = LinearRegression()\n",
    "\n",
    "# 5. Train the model on the training data\n",
    "model.fit(X_train, y_train)\n",
    "\n",
    "# 6. Make predictions on the test data\n",
    "y_pred = model.predict(X_val)\n",
    "\n",
    "# 7. Evaluate the model\n",
    "mse = mean_squared_error(y_val, y_pred)\n",
    "r2 = r2_score(y_val, y_pred)\n",
    "\n",
    "# Print evaluation metrics and coefficients\n",
    "print(\"Mean Squared Error (MSE):\", mse)\n",
    "print(\"R-squared (R²):\", r2)\n",
    "print(\"Model Coefficients:\", model.coef_)\n",
    "print(\"Intercept:\", model.intercept_)\n",
    "\n"
   ]
  }
 ],
 "metadata": {
  "kernelspec": {
   "display_name": "Python 3",
   "language": "python",
   "name": "python3"
  },
  "language_info": {
   "codemirror_mode": {
    "name": "ipython",
    "version": 3
   },
   "file_extension": ".py",
   "mimetype": "text/x-python",
   "name": "python",
   "nbconvert_exporter": "python",
   "pygments_lexer": "ipython3",
   "version": "3.10.11"
  }
 },
 "nbformat": 4,
 "nbformat_minor": 2
}
