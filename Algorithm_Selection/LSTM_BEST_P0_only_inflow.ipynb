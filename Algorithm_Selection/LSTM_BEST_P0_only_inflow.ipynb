{
 "cells": [
  {
   "cell_type": "markdown",
   "metadata": {},
   "source": [
    "Conclusion: \n",
    "- it is not better with just inflow data"
   ]
  },
  {
   "cell_type": "code",
   "execution_count": 1,
   "metadata": {},
   "outputs": [],
   "source": [
    "from sklearn.model_selection import train_test_split\n",
    "import pandas as pd\n",
    "import os\n",
    "import sys\n",
    "from sklearn.model_selection import TimeSeriesSplit\n",
    "from sklearn.preprocessing import StandardScaler, MinMaxScaler\n",
    "# Get the directory of the current script\n",
    "try:\n",
    "    # This will work if the script is being run as a file\n",
    "    current_dir = os.path.dirname(os.path.abspath(__file__))\n",
    "except NameError:\n",
    "    # Use the current working directory if __file__ is not defined\n",
    "    current_dir = os.getcwd()\n",
    "# Move up one directory level from EDA to the parent directory\n",
    "parent_dir = os.path.dirname(current_dir)\n",
    "# Construct the path to the xdrive folder\n",
    "xdrive_path = os.path.join(parent_dir, 'xdrive')\n",
    "# Add the xdrive path to sys.path\n",
    "sys.path.append(xdrive_path)\n",
    "\n",
    "featureeng_path = os.path.join(parent_dir, 'Feature Engineering')\n",
    "# Add the xdrive path to sys.path\n",
    "sys.path.append(featureeng_path)\n",
    "\n",
    "# Construct the path to the xdrive folder\n",
    "xdrive_path = os.path.join(parent_dir, 'Pipeline')\n",
    "# Add the xdrive path to sys.path\n",
    "sys.path.append(xdrive_path)\n",
    "from build_a_pipeline import build_pipeline\n",
    "from tensorflow.keras.models import Sequential\n",
    "from tensorflow.keras.layers import LSTM, Dense, Flatten, Dropout\n",
    "from tensorflow.keras.callbacks import ModelCheckpoint, EarlyStopping\n",
    "from tensorflow.keras.optimizers import Adam\n",
    "import numpy as np\n",
    "from tensorflow.keras.models import Sequential\n",
    "from tensorflow.keras.layers import LSTM, Dense, Dropout\n",
    "from sklearn.preprocessing import MinMaxScaler\n",
    "from sklearn.metrics import mean_squared_error\n",
    "import tensorflow as tf\n",
    "from tensorflow.keras.models import Sequential\n",
    "from tensorflow.keras.layers import LSTM, Dense, Flatten, Dropout\n",
    "from tensorflow.keras.callbacks import ModelCheckpoint, EarlyStopping\n",
    "from tensorflow.keras.optimizers import Adam\n",
    "from tensorflow.keras.layers import TimeDistributed, Dense\n",
    "from build_a_pipeline import build_pipeline_P0_foward_price\n"
   ]
  },
  {
   "cell_type": "code",
   "execution_count": 4,
   "metadata": {},
   "outputs": [],
   "source": [
    "\n",
    "model_performance = []\n",
    "x_train, x_val, X_test, y_train, y_val, y_test = build_pipeline_P0_foward_price(target_column = 'P0')\n",
    "x_train = x_train[['Hydro_Inflow_N(MWavg)', 'Hydro_Inflow_NE(MWavg)',\n",
    "       'Hydro_Inflow_S(MWavg)', 'Hydro_Inflow_SE/CW(MWavg)',\n",
    "       'Daily_Sum_Hydro_Inflow(MWavg)']]\n",
    "x_val =  x_val[['Hydro_Inflow_N(MWavg)', 'Hydro_Inflow_NE(MWavg)',\n",
    "       'Hydro_Inflow_S(MWavg)', 'Hydro_Inflow_SE/CW(MWavg)',\n",
    "       'Daily_Sum_Hydro_Inflow(MWavg)']]\n",
    "X_test = X_test[['Hydro_Inflow_N(MWavg)', 'Hydro_Inflow_NE(MWavg)',\n",
    "       'Hydro_Inflow_S(MWavg)', 'Hydro_Inflow_SE/CW(MWavg)',\n",
    "       'Daily_Sum_Hydro_Inflow(MWavg)']]\n",
    "datetime_index = x_val.index\n",
    "# Convert x_train and x_val to NumPy arrays\n",
    "x_val_original = x_val\n",
    "X_test_original = X_test\n",
    "x_train = x_train.to_numpy()\n",
    "x_val = x_val.to_numpy()\n",
    "# Reshape x_train and x_val to have the required 3D shape\n",
    "x_train = x_train.reshape(x_train.shape[0], 1, x_train.shape[1])  # [samples, time_steps=1, features]\n",
    "x_val = x_val.reshape(x_val.shape[0], 1, x_val.shape[1])    \n",
    "\n"
   ]
  },
  {
   "cell_type": "code",
   "execution_count": 5,
   "metadata": {},
   "outputs": [
    {
     "name": "stdout",
     "output_type": "stream",
     "text": [
      "Epoch 1/120\n"
     ]
    },
    {
     "name": "stderr",
     "output_type": "stream",
     "text": [
      "C:\\Users\\veron\\AppData\\Local\\Packages\\PythonSoftwareFoundation.Python.3.10_qbz5n2kfra8p0\\LocalCache\\local-packages\\Python310\\site-packages\\keras\\src\\layers\\rnn\\rnn.py:204: UserWarning: Do not pass an `input_shape`/`input_dim` argument to a layer. When using Sequential models, prefer using an `Input(shape)` object as the first layer in the model instead.\n",
      "  super().__init__(**kwargs)\n"
     ]
    },
    {
     "name": "stdout",
     "output_type": "stream",
     "text": [
      "\u001b[1m18/18\u001b[0m \u001b[32m━━━━━━━━━━━━━━━━━━━━\u001b[0m\u001b[37m\u001b[0m \u001b[1m2s\u001b[0m 20ms/step - loss: 33991.9727 - root_mean_squared_error: 183.8020 - val_loss: 3540.5366 - val_root_mean_squared_error: 59.5024\n",
      "Epoch 2/120\n",
      "\u001b[1m18/18\u001b[0m \u001b[32m━━━━━━━━━━━━━━━━━━━━\u001b[0m\u001b[37m\u001b[0m \u001b[1m0s\u001b[0m 6ms/step - loss: 23217.8750 - root_mean_squared_error: 152.1899 - val_loss: 4424.2710 - val_root_mean_squared_error: 66.5152\n",
      "Epoch 3/120\n",
      "\u001b[1m18/18\u001b[0m \u001b[32m━━━━━━━━━━━━━━━━━━━━\u001b[0m\u001b[37m\u001b[0m \u001b[1m0s\u001b[0m 8ms/step - loss: 16936.9375 - root_mean_squared_error: 130.0892 - val_loss: 1461.9550 - val_root_mean_squared_error: 38.2355\n",
      "Epoch 4/120\n",
      "\u001b[1m18/18\u001b[0m \u001b[32m━━━━━━━━━━━━━━━━━━━━\u001b[0m\u001b[37m\u001b[0m \u001b[1m0s\u001b[0m 6ms/step - loss: 13724.8438 - root_mean_squared_error: 117.0927 - val_loss: 1149.6299 - val_root_mean_squared_error: 33.9062\n",
      "Epoch 5/120\n",
      "\u001b[1m18/18\u001b[0m \u001b[32m━━━━━━━━━━━━━━━━━━━━\u001b[0m\u001b[37m\u001b[0m \u001b[1m0s\u001b[0m 7ms/step - loss: 13509.1592 - root_mean_squared_error: 115.7801 - val_loss: 1848.4426 - val_root_mean_squared_error: 42.9935\n",
      "Epoch 6/120\n",
      "\u001b[1m18/18\u001b[0m \u001b[32m━━━━━━━━━━━━━━━━━━━━\u001b[0m\u001b[37m\u001b[0m \u001b[1m0s\u001b[0m 7ms/step - loss: 13245.4795 - root_mean_squared_error: 115.0449 - val_loss: 769.3149 - val_root_mean_squared_error: 27.7365\n",
      "Epoch 7/120\n",
      "\u001b[1m18/18\u001b[0m \u001b[32m━━━━━━━━━━━━━━━━━━━━\u001b[0m\u001b[37m\u001b[0m \u001b[1m0s\u001b[0m 5ms/step - loss: 12016.5479 - root_mean_squared_error: 109.3716 - val_loss: 1278.8217 - val_root_mean_squared_error: 35.7606\n",
      "Epoch 8/120\n",
      "\u001b[1m18/18\u001b[0m \u001b[32m━━━━━━━━━━━━━━━━━━━━\u001b[0m\u001b[37m\u001b[0m \u001b[1m0s\u001b[0m 5ms/step - loss: 13045.3672 - root_mean_squared_error: 114.1368 - val_loss: 1087.7183 - val_root_mean_squared_error: 32.9806\n",
      "Epoch 9/120\n",
      "\u001b[1m18/18\u001b[0m \u001b[32m━━━━━━━━━━━━━━━━━━━━\u001b[0m\u001b[37m\u001b[0m \u001b[1m0s\u001b[0m 5ms/step - loss: 10863.3633 - root_mean_squared_error: 104.1758 - val_loss: 1150.1493 - val_root_mean_squared_error: 33.9139\n",
      "Epoch 10/120\n",
      "\u001b[1m18/18\u001b[0m \u001b[32m━━━━━━━━━━━━━━━━━━━━\u001b[0m\u001b[37m\u001b[0m \u001b[1m0s\u001b[0m 5ms/step - loss: 10157.3662 - root_mean_squared_error: 100.2846 - val_loss: 1031.2651 - val_root_mean_squared_error: 32.1133\n",
      "Epoch 11/120\n",
      "\u001b[1m18/18\u001b[0m \u001b[32m━━━━━━━━━━━━━━━━━━━━\u001b[0m\u001b[37m\u001b[0m \u001b[1m0s\u001b[0m 5ms/step - loss: 10853.4443 - root_mean_squared_error: 104.0913 - val_loss: 1030.6187 - val_root_mean_squared_error: 32.1032\n",
      "Epoch 12/120\n",
      "\u001b[1m18/18\u001b[0m \u001b[32m━━━━━━━━━━━━━━━━━━━━\u001b[0m\u001b[37m\u001b[0m \u001b[1m0s\u001b[0m 5ms/step - loss: 8876.2793 - root_mean_squared_error: 94.0711 - val_loss: 1232.7926 - val_root_mean_squared_error: 35.1111\n",
      "Epoch 13/120\n",
      "\u001b[1m18/18\u001b[0m \u001b[32m━━━━━━━━━━━━━━━━━━━━\u001b[0m\u001b[37m\u001b[0m \u001b[1m0s\u001b[0m 5ms/step - loss: 10231.3799 - root_mean_squared_error: 101.0961 - val_loss: 777.3137 - val_root_mean_squared_error: 27.8803\n",
      "Epoch 14/120\n",
      "\u001b[1m18/18\u001b[0m \u001b[32m━━━━━━━━━━━━━━━━━━━━\u001b[0m\u001b[37m\u001b[0m \u001b[1m0s\u001b[0m 4ms/step - loss: 8939.8477 - root_mean_squared_error: 94.4226 - val_loss: 782.3095 - val_root_mean_squared_error: 27.9698\n",
      "Epoch 15/120\n",
      "\u001b[1m18/18\u001b[0m \u001b[32m━━━━━━━━━━━━━━━━━━━━\u001b[0m\u001b[37m\u001b[0m \u001b[1m0s\u001b[0m 5ms/step - loss: 8903.5605 - root_mean_squared_error: 94.0637 - val_loss: 919.2706 - val_root_mean_squared_error: 30.3195\n",
      "Epoch 16/120\n",
      "\u001b[1m18/18\u001b[0m \u001b[32m━━━━━━━━━━━━━━━━━━━━\u001b[0m\u001b[37m\u001b[0m \u001b[1m0s\u001b[0m 5ms/step - loss: 8429.5400 - root_mean_squared_error: 91.6581 - val_loss: 1176.5498 - val_root_mean_squared_error: 34.3009\n",
      "Final train RMSE: 93.20211791992188\n",
      "Final validation RMSE: 34.300872802734375\n"
     ]
    }
   ],
   "source": [
    "\n",
    "# Build the LSTM model\n",
    "multivariate_lstm = Sequential([\n",
    "    LSTM(195, input_shape=(x_train.shape[1], x_train.shape[2]), return_sequences=True),\n",
    "    TimeDistributed(Dense(95, activation='selu')), \n",
    "    Flatten(),\n",
    "    Dense(1)  # Output layer\n",
    "])\n",
    "\n",
    "# ModelCheckpoint to save the best model based on validation loss\n",
    "model_checkpoint = ModelCheckpoint('multivariate_lstm.keras', monitor='val_loss', save_best_only=True)\n",
    "\n",
    "# EarlyStopping to prevent overfitting\n",
    "early_stopping = EarlyStopping(monitor='val_loss', patience=10, restore_best_weights=True)\n",
    "\n",
    "# Optimizer with adjusted learning rate\n",
    "optimizer = Adam(learning_rate=6e-3, amsgrad=True)\n",
    "\n",
    "# Loss function and metric\n",
    "loss = tf.keras.losses.MeanSquaredError()\n",
    "metric = [tf.keras.metrics.RootMeanSquaredError()]\n",
    "\n",
    "# Compile the model\n",
    "multivariate_lstm.compile(loss=loss, optimizer=optimizer, metrics=metric)\n",
    "\n",
    "# Train the model (make sure you pass both x_val and y_val)\n",
    "history = multivariate_lstm.fit(x_train, y_train, epochs=120,\n",
    "                                validation_data=(x_val, y_val),\n",
    "                                callbacks=[early_stopping, model_checkpoint])\n",
    "\n",
    "# Optionally, print the final RMSE\n",
    "train_rmse = history.history['root_mean_squared_error'][-1]\n",
    "val_rmse = history.history['val_root_mean_squared_error'][-1]\n",
    "print(f\"Final train RMSE: {train_rmse}\")\n",
    "print(f\"Final validation RMSE: {val_rmse}\")\n",
    "model_performance.append({\n",
    "    'Model': '1st Model',\n",
    "    'LayerExtra': 'TimeDistributed, LSTM',\n",
    "    'Train RMSE': train_rmse,\n",
    "    'Validation RMSE': val_rmse\n",
    "})"
   ]
  },
  {
   "cell_type": "markdown",
   "metadata": {},
   "source": [
    "Improved version"
   ]
  },
  {
   "cell_type": "markdown",
   "metadata": {},
   "source": [
    "## Trying the pipeline with no feature selection dropping"
   ]
  },
  {
   "cell_type": "code",
   "execution_count": 7,
   "metadata": {},
   "outputs": [],
   "source": [
    "x_train, x_val, X_test, y_train, y_val, y_test = build_pipeline_P0_foward_price(target_column = 'P0', drop_features = False)\n",
    "x_train = x_train[['Hydro_Inflow_N(MWavg)', 'Hydro_Inflow_NE(MWavg)',\n",
    "       'Hydro_Inflow_S(MWavg)', 'Hydro_Inflow_SE/CW(MWavg)',\n",
    "       'Daily_Sum_Hydro_Inflow(MWavg)']]\n",
    "x_val =  x_val[['Hydro_Inflow_N(MWavg)', 'Hydro_Inflow_NE(MWavg)',\n",
    "       'Hydro_Inflow_S(MWavg)', 'Hydro_Inflow_SE/CW(MWavg)',\n",
    "       'Daily_Sum_Hydro_Inflow(MWavg)']]\n",
    "X_test = X_test[['Hydro_Inflow_N(MWavg)', 'Hydro_Inflow_NE(MWavg)',\n",
    "       'Hydro_Inflow_S(MWavg)', 'Hydro_Inflow_SE/CW(MWavg)',\n",
    "       'Daily_Sum_Hydro_Inflow(MWavg)']]\n",
    "\n",
    "# Convert x_train and x_val to NumPy arrays\n",
    "x_train = x_train.to_numpy()\n",
    "x_val = x_val.to_numpy()\n",
    "# Reshape x_train and x_val to have the required 3D shape\n",
    "x_train = x_train.reshape(x_train.shape[0], 1, x_train.shape[1])  # [samples, time_steps=1, features]\n",
    "x_val = x_val.reshape(x_val.shape[0], 1, x_val.shape[1])    "
   ]
  },
  {
   "cell_type": "code",
   "execution_count": 8,
   "metadata": {},
   "outputs": [],
   "source": [
    "import os\n",
    "import random\n",
    "import numpy as np\n",
    "import tensorflow as tf\n",
    "\n",
    "seed_value = 42\n",
    "os.environ['PYTHONHASHSEED'] = str(seed_value)\n",
    "random.seed(seed_value)\n",
    "np.random.seed(seed_value)\n",
    "tf.random.set_seed(seed_value)\n",
    "os.environ['TF_DETERMINISTIC_OPS'] = '1'\n",
    "os.environ['TF_CUDNN_DETERMINISTIC'] = '1'"
   ]
  },
  {
   "cell_type": "code",
   "execution_count": 9,
   "metadata": {},
   "outputs": [
    {
     "name": "stdout",
     "output_type": "stream",
     "text": [
      "Epoch 1/120\n"
     ]
    },
    {
     "name": "stderr",
     "output_type": "stream",
     "text": [
      "C:\\Users\\veron\\AppData\\Local\\Packages\\PythonSoftwareFoundation.Python.3.10_qbz5n2kfra8p0\\LocalCache\\local-packages\\Python310\\site-packages\\keras\\src\\layers\\rnn\\rnn.py:204: UserWarning: Do not pass an `input_shape`/`input_dim` argument to a layer. When using Sequential models, prefer using an `Input(shape)` object as the first layer in the model instead.\n",
      "  super().__init__(**kwargs)\n"
     ]
    },
    {
     "name": "stdout",
     "output_type": "stream",
     "text": [
      "\u001b[1m18/18\u001b[0m \u001b[32m━━━━━━━━━━━━━━━━━━━━\u001b[0m\u001b[37m\u001b[0m \u001b[1m2s\u001b[0m 21ms/step - loss: 31049.6406 - root_mean_squared_error: 175.5125 - val_loss: 3367.3220 - val_root_mean_squared_error: 58.0286\n",
      "Epoch 2/120\n",
      "\u001b[1m18/18\u001b[0m \u001b[32m━━━━━━━━━━━━━━━━━━━━\u001b[0m\u001b[37m\u001b[0m \u001b[1m0s\u001b[0m 8ms/step - loss: 23217.0312 - root_mean_squared_error: 151.9933 - val_loss: 2814.7271 - val_root_mean_squared_error: 53.0540\n",
      "Epoch 3/120\n",
      "\u001b[1m18/18\u001b[0m \u001b[32m━━━━━━━━━━━━━━━━━━━━\u001b[0m\u001b[37m\u001b[0m \u001b[1m0s\u001b[0m 5ms/step - loss: 15351.5674 - root_mean_squared_error: 123.7247 - val_loss: 3005.6912 - val_root_mean_squared_error: 54.8242\n",
      "Epoch 4/120\n",
      "\u001b[1m18/18\u001b[0m \u001b[32m━━━━━━━━━━━━━━━━━━━━\u001b[0m\u001b[37m\u001b[0m \u001b[1m0s\u001b[0m 6ms/step - loss: 14223.1748 - root_mean_squared_error: 119.1607 - val_loss: 1535.2957 - val_root_mean_squared_error: 39.1828\n",
      "Epoch 5/120\n",
      "\u001b[1m18/18\u001b[0m \u001b[32m━━━━━━━━━━━━━━━━━━━━\u001b[0m\u001b[37m\u001b[0m \u001b[1m0s\u001b[0m 7ms/step - loss: 13018.4883 - root_mean_squared_error: 113.9070 - val_loss: 1267.8804 - val_root_mean_squared_error: 35.6073\n",
      "Epoch 6/120\n",
      "\u001b[1m18/18\u001b[0m \u001b[32m━━━━━━━━━━━━━━━━━━━━\u001b[0m\u001b[37m\u001b[0m \u001b[1m0s\u001b[0m 5ms/step - loss: 12467.8359 - root_mean_squared_error: 111.4754 - val_loss: 1335.1340 - val_root_mean_squared_error: 36.5395\n",
      "Epoch 7/120\n",
      "\u001b[1m18/18\u001b[0m \u001b[32m━━━━━━━━━━━━━━━━━━━━\u001b[0m\u001b[37m\u001b[0m \u001b[1m0s\u001b[0m 4ms/step - loss: 12073.0264 - root_mean_squared_error: 109.7435 - val_loss: 1384.4893 - val_root_mean_squared_error: 37.2087\n",
      "Epoch 8/120\n",
      "\u001b[1m18/18\u001b[0m \u001b[32m━━━━━━━━━━━━━━━━━━━━\u001b[0m\u001b[37m\u001b[0m \u001b[1m0s\u001b[0m 5ms/step - loss: 11674.6621 - root_mean_squared_error: 107.9356 - val_loss: 1428.4110 - val_root_mean_squared_error: 37.7943\n",
      "Epoch 9/120\n",
      "\u001b[1m18/18\u001b[0m \u001b[32m━━━━━━━━━━━━━━━━━━━━\u001b[0m\u001b[37m\u001b[0m \u001b[1m0s\u001b[0m 5ms/step - loss: 11367.3105 - root_mean_squared_error: 106.5140 - val_loss: 1343.8191 - val_root_mean_squared_error: 36.6581\n",
      "Epoch 10/120\n",
      "\u001b[1m18/18\u001b[0m \u001b[32m━━━━━━━━━━━━━━━━━━━━\u001b[0m\u001b[37m\u001b[0m \u001b[1m0s\u001b[0m 7ms/step - loss: 11063.4941 - root_mean_squared_error: 105.0881 - val_loss: 1209.3945 - val_root_mean_squared_error: 34.7764\n",
      "Epoch 11/120\n",
      "\u001b[1m18/18\u001b[0m \u001b[32m━━━━━━━━━━━━━━━━━━━━\u001b[0m\u001b[37m\u001b[0m \u001b[1m0s\u001b[0m 7ms/step - loss: 10885.9814 - root_mean_squared_error: 104.2452 - val_loss: 1006.5940 - val_root_mean_squared_error: 31.7269\n",
      "Epoch 12/120\n",
      "\u001b[1m18/18\u001b[0m \u001b[32m━━━━━━━━━━━━━━━━━━━━\u001b[0m\u001b[37m\u001b[0m \u001b[1m0s\u001b[0m 7ms/step - loss: 10610.9453 - root_mean_squared_error: 102.9243 - val_loss: 838.2686 - val_root_mean_squared_error: 28.9529\n",
      "Epoch 13/120\n",
      "\u001b[1m18/18\u001b[0m \u001b[32m━━━━━━━━━━━━━━━━━━━━\u001b[0m\u001b[37m\u001b[0m \u001b[1m0s\u001b[0m 7ms/step - loss: 10483.7275 - root_mean_squared_error: 102.3048 - val_loss: 669.0631 - val_root_mean_squared_error: 25.8663\n",
      "Epoch 14/120\n",
      "\u001b[1m18/18\u001b[0m \u001b[32m━━━━━━━━━━━━━━━━━━━━\u001b[0m\u001b[37m\u001b[0m \u001b[1m0s\u001b[0m 10ms/step - loss: 10199.4072 - root_mean_squared_error: 100.9094 - val_loss: 583.2064 - val_root_mean_squared_error: 24.1497\n",
      "Epoch 15/120\n",
      "\u001b[1m18/18\u001b[0m \u001b[32m━━━━━━━━━━━━━━━━━━━━\u001b[0m\u001b[37m\u001b[0m \u001b[1m0s\u001b[0m 7ms/step - loss: 10073.8027 - root_mean_squared_error: 100.2830 - val_loss: 520.5784 - val_root_mean_squared_error: 22.8162\n",
      "Epoch 16/120\n",
      "\u001b[1m18/18\u001b[0m \u001b[32m━━━━━━━━━━━━━━━━━━━━\u001b[0m\u001b[37m\u001b[0m \u001b[1m0s\u001b[0m 7ms/step - loss: 9838.0020 - root_mean_squared_error: 99.1014 - val_loss: 494.3860 - val_root_mean_squared_error: 22.2348\n",
      "Epoch 17/120\n",
      "\u001b[1m18/18\u001b[0m \u001b[32m━━━━━━━━━━━━━━━━━━━━\u001b[0m\u001b[37m\u001b[0m \u001b[1m0s\u001b[0m 8ms/step - loss: 9648.9658 - root_mean_squared_error: 98.1398 - val_loss: 491.2030 - val_root_mean_squared_error: 22.1631\n",
      "Epoch 18/120\n",
      "\u001b[1m18/18\u001b[0m \u001b[32m━━━━━━━━━━━━━━━━━━━━\u001b[0m\u001b[37m\u001b[0m \u001b[1m0s\u001b[0m 5ms/step - loss: 9442.3320 - root_mean_squared_error: 97.0772 - val_loss: 507.1203 - val_root_mean_squared_error: 22.5193\n",
      "Epoch 19/120\n",
      "\u001b[1m18/18\u001b[0m \u001b[32m━━━━━━━━━━━━━━━━━━━━\u001b[0m\u001b[37m\u001b[0m \u001b[1m0s\u001b[0m 6ms/step - loss: 9246.6250 - root_mean_squared_error: 96.0583 - val_loss: 535.2581 - val_root_mean_squared_error: 23.1356\n",
      "Epoch 20/120\n",
      "\u001b[1m18/18\u001b[0m \u001b[32m━━━━━━━━━━━━━━━━━━━━\u001b[0m\u001b[37m\u001b[0m \u001b[1m0s\u001b[0m 5ms/step - loss: 9040.5039 - root_mean_squared_error: 94.9742 - val_loss: 572.8098 - val_root_mean_squared_error: 23.9334\n",
      "Epoch 21/120\n",
      "\u001b[1m18/18\u001b[0m \u001b[32m━━━━━━━━━━━━━━━━━━━━\u001b[0m\u001b[37m\u001b[0m \u001b[1m0s\u001b[0m 5ms/step - loss: 8828.6338 - root_mean_squared_error: 93.8464 - val_loss: 618.2336 - val_root_mean_squared_error: 24.8643\n",
      "Epoch 22/120\n",
      "\u001b[1m18/18\u001b[0m \u001b[32m━━━━━━━━━━━━━━━━━━━━\u001b[0m\u001b[37m\u001b[0m \u001b[1m0s\u001b[0m 5ms/step - loss: 8676.9277 - root_mean_squared_error: 93.0250 - val_loss: 682.4076 - val_root_mean_squared_error: 26.1229\n",
      "Epoch 23/120\n",
      "\u001b[1m18/18\u001b[0m \u001b[32m━━━━━━━━━━━━━━━━━━━━\u001b[0m\u001b[37m\u001b[0m \u001b[1m0s\u001b[0m 6ms/step - loss: 8495.2266 - root_mean_squared_error: 92.0351 - val_loss: 770.3189 - val_root_mean_squared_error: 27.7546\n",
      "Epoch 24/120\n",
      "\u001b[1m18/18\u001b[0m \u001b[32m━━━━━━━━━━━━━━━━━━━━\u001b[0m\u001b[37m\u001b[0m \u001b[1m0s\u001b[0m 5ms/step - loss: 8387.9707 - root_mean_squared_error: 91.4337 - val_loss: 867.3181 - val_root_mean_squared_error: 29.4503\n",
      "Epoch 25/120\n",
      "\u001b[1m18/18\u001b[0m \u001b[32m━━━━━━━━━━━━━━━━━━━━\u001b[0m\u001b[37m\u001b[0m \u001b[1m0s\u001b[0m 5ms/step - loss: 8322.9121 - root_mean_squared_error: 91.0554 - val_loss: 874.1909 - val_root_mean_squared_error: 29.5667\n",
      "Epoch 26/120\n",
      "\u001b[1m18/18\u001b[0m \u001b[32m━━━━━━━━━━━━━━━━━━━━\u001b[0m\u001b[37m\u001b[0m \u001b[1m0s\u001b[0m 5ms/step - loss: 8074.4756 - root_mean_squared_error: 89.6696 - val_loss: 896.1552 - val_root_mean_squared_error: 29.9359\n",
      "Epoch 27/120\n",
      "\u001b[1m18/18\u001b[0m \u001b[32m━━━━━━━━━━━━━━━━━━━━\u001b[0m\u001b[37m\u001b[0m \u001b[1m0s\u001b[0m 6ms/step - loss: 7831.3242 - root_mean_squared_error: 88.3056 - val_loss: 795.3419 - val_root_mean_squared_error: 28.2018\n",
      "Final train RMSE: 87.53116607666016\n",
      "Final validation RMSE: 28.201807022094727\n"
     ]
    }
   ],
   "source": [
    "from tensorflow.keras.initializers import GlorotUniform\n",
    "# Build the LSTM model\n",
    "multivariate_lstm = Sequential([\n",
    "    LSTM(195, input_shape=(x_train.shape[1], x_train.shape[2]), kernel_initializer=GlorotUniform(seed=42), return_sequences=True),\n",
    "    TimeDistributed(Dense(95, activation='selu', kernel_initializer=GlorotUniform(seed=42))), \n",
    "    Flatten(),\n",
    "    Dense(1)  # Output layer\n",
    "])\n",
    "\n",
    "# ModelCheckpoint to save the best model based on validation loss\n",
    "model_checkpoint = ModelCheckpoint('multivariate_lstm.keras', monitor='val_loss', save_best_only=True)\n",
    "\n",
    "# EarlyStopping to prevent overfitting\n",
    "early_stopping = EarlyStopping(monitor='val_loss', patience=10, restore_best_weights=True)\n",
    "\n",
    "# Optimizer with adjusted learning rate\n",
    "optimizer = Adam(learning_rate=6e-3, amsgrad=True, clipnorm=1.0)\n",
    "#optimizer = Adam(learning_rate=0.001, clipnorm=1.0)\n",
    "\n",
    "# Loss function and metric\n",
    "loss = tf.keras.losses.MeanSquaredError()\n",
    "metric = [tf.keras.metrics.RootMeanSquaredError()]\n",
    "\n",
    "# Compile the model\n",
    "multivariate_lstm.compile(loss=loss, optimizer=optimizer, metrics=metric)\n",
    "\n",
    "# Train the model (make sure you pass both x_val and y_val)\n",
    "history = multivariate_lstm.fit(x_train, y_train, epochs=120,\n",
    "                                validation_data=(x_val, y_val),\n",
    "                                callbacks=[early_stopping, model_checkpoint])\n",
    "\n",
    "# Optionally, print the final RMSE\n",
    "train_rmse = history.history['root_mean_squared_error'][-1]\n",
    "val_rmse = history.history['val_root_mean_squared_error'][-1]\n",
    "print(f\"Final train RMSE: {train_rmse}\")\n",
    "print(f\"Final validation RMSE: {val_rmse}\")\n",
    "model_performance.append({\n",
    "    'Model': '1st Model',\n",
    "    'LayerExtra': 'TimeDistributed, LSTM',\n",
    "    'Train RMSE': train_rmse,\n",
    "    'Validation RMSE': val_rmse\n",
    "})"
   ]
  },
  {
   "cell_type": "code",
   "execution_count": 10,
   "metadata": {},
   "outputs": [
    {
     "name": "stdout",
     "output_type": "stream",
     "text": [
      "Epoch 1/120\n"
     ]
    },
    {
     "name": "stderr",
     "output_type": "stream",
     "text": [
      "C:\\Users\\veron\\AppData\\Local\\Packages\\PythonSoftwareFoundation.Python.3.10_qbz5n2kfra8p0\\LocalCache\\local-packages\\Python310\\site-packages\\keras\\src\\layers\\rnn\\rnn.py:204: UserWarning: Do not pass an `input_shape`/`input_dim` argument to a layer. When using Sequential models, prefer using an `Input(shape)` object as the first layer in the model instead.\n",
      "  super().__init__(**kwargs)\n"
     ]
    },
    {
     "name": "stdout",
     "output_type": "stream",
     "text": [
      "\u001b[1m18/18\u001b[0m \u001b[32m━━━━━━━━━━━━━━━━━━━━\u001b[0m\u001b[37m\u001b[0m \u001b[1m2s\u001b[0m 19ms/step - loss: 31567.1270 - root_mean_squared_error: 176.9099 - val_loss: 3982.9482 - val_root_mean_squared_error: 63.1106\n",
      "Epoch 2/120\n",
      "\u001b[1m18/18\u001b[0m \u001b[32m━━━━━━━━━━━━━━━━━━━━\u001b[0m\u001b[37m\u001b[0m \u001b[1m0s\u001b[0m 7ms/step - loss: 24684.2207 - root_mean_squared_error: 156.7018 - val_loss: 2103.7319 - val_root_mean_squared_error: 45.8665\n",
      "Epoch 3/120\n",
      "\u001b[1m18/18\u001b[0m \u001b[32m━━━━━━━━━━━━━━━━━━━━\u001b[0m\u001b[37m\u001b[0m \u001b[1m0s\u001b[0m 6ms/step - loss: 14080.4062 - root_mean_squared_error: 118.4146 - val_loss: 2962.9070 - val_root_mean_squared_error: 54.4326\n",
      "Epoch 4/120\n",
      "\u001b[1m18/18\u001b[0m \u001b[32m━━━━━━━━━━━━━━━━━━━━\u001b[0m\u001b[37m\u001b[0m \u001b[1m0s\u001b[0m 7ms/step - loss: 14062.1631 - root_mean_squared_error: 118.4771 - val_loss: 1451.9390 - val_root_mean_squared_error: 38.1043\n",
      "Epoch 5/120\n",
      "\u001b[1m18/18\u001b[0m \u001b[32m━━━━━━━━━━━━━━━━━━━━\u001b[0m\u001b[37m\u001b[0m \u001b[1m0s\u001b[0m 6ms/step - loss: 12408.1943 - root_mean_squared_error: 111.2092 - val_loss: 1334.2021 - val_root_mean_squared_error: 36.5267\n",
      "Epoch 6/120\n",
      "\u001b[1m18/18\u001b[0m \u001b[32m━━━━━━━━━━━━━━━━━━━━\u001b[0m\u001b[37m\u001b[0m \u001b[1m0s\u001b[0m 7ms/step - loss: 11847.2520 - root_mean_squared_error: 108.7306 - val_loss: 997.3482 - val_root_mean_squared_error: 31.5808\n",
      "Epoch 7/120\n",
      "\u001b[1m18/18\u001b[0m \u001b[32m━━━━━━━━━━━━━━━━━━━━\u001b[0m\u001b[37m\u001b[0m \u001b[1m0s\u001b[0m 7ms/step - loss: 11004.2979 - root_mean_squared_error: 104.7873 - val_loss: 856.2222 - val_root_mean_squared_error: 29.2613\n",
      "Epoch 8/120\n",
      "\u001b[1m18/18\u001b[0m \u001b[32m━━━━━━━━━━━━━━━━━━━━\u001b[0m\u001b[37m\u001b[0m \u001b[1m0s\u001b[0m 6ms/step - loss: 10490.1826 - root_mean_squared_error: 102.3161 - val_loss: 787.7710 - val_root_mean_squared_error: 28.0673\n",
      "Epoch 9/120\n",
      "\u001b[1m18/18\u001b[0m \u001b[32m━━━━━━━━━━━━━━━━━━━━\u001b[0m\u001b[37m\u001b[0m \u001b[1m0s\u001b[0m 7ms/step - loss: 10032.2578 - root_mean_squared_error: 100.0539 - val_loss: 742.8533 - val_root_mean_squared_error: 27.2553\n",
      "Epoch 10/120\n",
      "\u001b[1m18/18\u001b[0m \u001b[32m━━━━━━━━━━━━━━━━━━━━\u001b[0m\u001b[37m\u001b[0m \u001b[1m0s\u001b[0m 7ms/step - loss: 9584.0801 - root_mean_squared_error: 97.7839 - val_loss: 653.7474 - val_root_mean_squared_error: 25.5685\n",
      "Epoch 11/120\n",
      "\u001b[1m18/18\u001b[0m \u001b[32m━━━━━━━━━━━━━━━━━━━━\u001b[0m\u001b[37m\u001b[0m \u001b[1m0s\u001b[0m 7ms/step - loss: 9067.3281 - root_mean_squared_error: 95.1015 - val_loss: 616.0614 - val_root_mean_squared_error: 24.8206\n",
      "Epoch 12/120\n",
      "\u001b[1m18/18\u001b[0m \u001b[32m━━━━━━━━━━━━━━━━━━━━\u001b[0m\u001b[37m\u001b[0m \u001b[1m0s\u001b[0m 7ms/step - loss: 8592.9473 - root_mean_squared_error: 92.5710 - val_loss: 549.7256 - val_root_mean_squared_error: 23.4462\n",
      "Epoch 13/120\n",
      "\u001b[1m18/18\u001b[0m \u001b[32m━━━━━━━━━━━━━━━━━━━━\u001b[0m\u001b[37m\u001b[0m \u001b[1m0s\u001b[0m 7ms/step - loss: 8215.3574 - root_mean_squared_error: 90.4950 - val_loss: 492.4671 - val_root_mean_squared_error: 22.1916\n",
      "Epoch 14/120\n",
      "\u001b[1m18/18\u001b[0m \u001b[32m━━━━━━━━━━━━━━━━━━━━\u001b[0m\u001b[37m\u001b[0m \u001b[1m0s\u001b[0m 7ms/step - loss: 7869.1328 - root_mean_squared_error: 88.5486 - val_loss: 454.2664 - val_root_mean_squared_error: 21.3135\n",
      "Epoch 15/120\n",
      "\u001b[1m18/18\u001b[0m \u001b[32m━━━━━━━━━━━━━━━━━━━━\u001b[0m\u001b[37m\u001b[0m \u001b[1m0s\u001b[0m 7ms/step - loss: 7556.2520 - root_mean_squared_error: 86.7480 - val_loss: 420.3210 - val_root_mean_squared_error: 20.5017\n",
      "Epoch 16/120\n",
      "\u001b[1m18/18\u001b[0m \u001b[32m━━━━━━━━━━━━━━━━━━━━\u001b[0m\u001b[37m\u001b[0m \u001b[1m0s\u001b[0m 8ms/step - loss: 7260.2515 - root_mean_squared_error: 85.0134 - val_loss: 390.2287 - val_root_mean_squared_error: 19.7542\n",
      "Epoch 17/120\n",
      "\u001b[1m18/18\u001b[0m \u001b[32m━━━━━━━━━━━━━━━━━━━━\u001b[0m\u001b[37m\u001b[0m \u001b[1m0s\u001b[0m 9ms/step - loss: 6942.8418 - root_mean_squared_error: 83.1208 - val_loss: 365.9568 - val_root_mean_squared_error: 19.1300\n",
      "Epoch 18/120\n",
      "\u001b[1m18/18\u001b[0m \u001b[32m━━━━━━━━━━━━━━━━━━━━\u001b[0m\u001b[37m\u001b[0m \u001b[1m0s\u001b[0m 6ms/step - loss: 6602.2227 - root_mean_squared_error: 81.0464 - val_loss: 339.8510 - val_root_mean_squared_error: 18.4350\n",
      "Epoch 19/120\n",
      "\u001b[1m18/18\u001b[0m \u001b[32m━━━━━━━━━━━━━━━━━━━━\u001b[0m\u001b[37m\u001b[0m \u001b[1m0s\u001b[0m 8ms/step - loss: 6250.1704 - root_mean_squared_error: 78.8502 - val_loss: 316.2227 - val_root_mean_squared_error: 17.7826\n",
      "Epoch 20/120\n",
      "\u001b[1m18/18\u001b[0m \u001b[32m━━━━━━━━━━━━━━━━━━━━\u001b[0m\u001b[37m\u001b[0m \u001b[1m0s\u001b[0m 7ms/step - loss: 5906.8315 - root_mean_squared_error: 76.6506 - val_loss: 300.4845 - val_root_mean_squared_error: 17.3345\n",
      "Epoch 21/120\n",
      "\u001b[1m18/18\u001b[0m \u001b[32m━━━━━━━━━━━━━━━━━━━━\u001b[0m\u001b[37m\u001b[0m \u001b[1m0s\u001b[0m 6ms/step - loss: 5556.7358 - root_mean_squared_error: 74.3443 - val_loss: 280.3442 - val_root_mean_squared_error: 16.7435\n",
      "Epoch 22/120\n",
      "\u001b[1m18/18\u001b[0m \u001b[32m━━━━━━━━━━━━━━━━━━━━\u001b[0m\u001b[37m\u001b[0m \u001b[1m0s\u001b[0m 8ms/step - loss: 5220.2627 - root_mean_squared_error: 72.0588 - val_loss: 248.0047 - val_root_mean_squared_error: 15.7482\n",
      "Epoch 23/120\n",
      "\u001b[1m18/18\u001b[0m \u001b[32m━━━━━━━━━━━━━━━━━━━━\u001b[0m\u001b[37m\u001b[0m \u001b[1m0s\u001b[0m 7ms/step - loss: 4927.5464 - root_mean_squared_error: 70.0103 - val_loss: 217.7345 - val_root_mean_squared_error: 14.7558\n",
      "Epoch 24/120\n",
      "\u001b[1m18/18\u001b[0m \u001b[32m━━━━━━━━━━━━━━━━━━━━\u001b[0m\u001b[37m\u001b[0m \u001b[1m0s\u001b[0m 7ms/step - loss: 4662.6777 - root_mean_squared_error: 68.1074 - val_loss: 213.7470 - val_root_mean_squared_error: 14.6201\n",
      "Epoch 25/120\n",
      "\u001b[1m18/18\u001b[0m \u001b[32m━━━━━━━━━━━━━━━━━━━━\u001b[0m\u001b[37m\u001b[0m \u001b[1m0s\u001b[0m 4ms/step - loss: 4390.0376 - root_mean_squared_error: 66.0929 - val_loss: 233.7836 - val_root_mean_squared_error: 15.2900\n",
      "Epoch 26/120\n",
      "\u001b[1m18/18\u001b[0m \u001b[32m━━━━━━━━━━━━━━━━━━━━\u001b[0m\u001b[37m\u001b[0m \u001b[1m0s\u001b[0m 4ms/step - loss: 4148.5464 - root_mean_squared_error: 64.2563 - val_loss: 276.9290 - val_root_mean_squared_error: 16.6412\n",
      "Epoch 27/120\n",
      "\u001b[1m18/18\u001b[0m \u001b[32m━━━━━━━━━━━━━━━━━━━━\u001b[0m\u001b[37m\u001b[0m \u001b[1m0s\u001b[0m 6ms/step - loss: 3911.3135 - root_mean_squared_error: 62.4004 - val_loss: 313.0241 - val_root_mean_squared_error: 17.6925\n",
      "Epoch 28/120\n",
      "\u001b[1m18/18\u001b[0m \u001b[32m━━━━━━━━━━━━━━━━━━━━\u001b[0m\u001b[37m\u001b[0m \u001b[1m0s\u001b[0m 4ms/step - loss: 3692.3987 - root_mean_squared_error: 60.6395 - val_loss: 332.9887 - val_root_mean_squared_error: 18.2480\n",
      "Epoch 29/120\n",
      "\u001b[1m18/18\u001b[0m \u001b[32m━━━━━━━━━━━━━━━━━━━━\u001b[0m\u001b[37m\u001b[0m \u001b[1m0s\u001b[0m 4ms/step - loss: 3476.0112 - root_mean_squared_error: 58.8408 - val_loss: 345.0835 - val_root_mean_squared_error: 18.5764\n",
      "Epoch 30/120\n",
      "\u001b[1m18/18\u001b[0m \u001b[32m━━━━━━━━━━━━━━━━━━━━\u001b[0m\u001b[37m\u001b[0m \u001b[1m0s\u001b[0m 4ms/step - loss: 3284.7178 - root_mean_squared_error: 57.1987 - val_loss: 349.1921 - val_root_mean_squared_error: 18.6867\n",
      "Epoch 31/120\n",
      "\u001b[1m18/18\u001b[0m \u001b[32m━━━━━━━━━━━━━━━━━━━━\u001b[0m\u001b[37m\u001b[0m \u001b[1m0s\u001b[0m 5ms/step - loss: 3108.3240 - root_mean_squared_error: 55.6429 - val_loss: 364.1922 - val_root_mean_squared_error: 19.0838\n",
      "Epoch 32/120\n",
      "\u001b[1m18/18\u001b[0m \u001b[32m━━━━━━━━━━━━━━━━━━━━\u001b[0m\u001b[37m\u001b[0m \u001b[1m0s\u001b[0m 4ms/step - loss: 2950.1541 - root_mean_squared_error: 54.2046 - val_loss: 359.9284 - val_root_mean_squared_error: 18.9718\n",
      "Epoch 33/120\n",
      "\u001b[1m18/18\u001b[0m \u001b[32m━━━━━━━━━━━━━━━━━━━━\u001b[0m\u001b[37m\u001b[0m \u001b[1m0s\u001b[0m 5ms/step - loss: 2784.7292 - root_mean_squared_error: 52.6647 - val_loss: 381.6473 - val_root_mean_squared_error: 19.5358\n",
      "Epoch 34/120\n",
      "\u001b[1m18/18\u001b[0m \u001b[32m━━━━━━━━━━━━━━━━━━━━\u001b[0m\u001b[37m\u001b[0m \u001b[1m0s\u001b[0m 5ms/step - loss: 2646.7544 - root_mean_squared_error: 51.3418 - val_loss: 371.7535 - val_root_mean_squared_error: 19.2809\n",
      "Final train RMSE: 53.22562026977539\n",
      "Final validation RMSE: 19.28091049194336\n"
     ]
    }
   ],
   "source": [
    "import tensorflow as tf\n",
    "from tensorflow.keras.models import Sequential\n",
    "from tensorflow.keras.layers import LSTM, Dense, Flatten, Dropout\n",
    "from tensorflow.keras.callbacks import ModelCheckpoint, EarlyStopping\n",
    "from tensorflow.keras.optimizers import Adam\n",
    "from tensorflow.keras.layers import TimeDistributed, Dense\n",
    "\n",
    "# Build the LSTM multivariate_lstm\n",
    "multivariate_lstm = Sequential([\n",
    "    LSTM(200, input_shape=(x_train.shape[1], x_train.shape[2]), return_sequences=True),\n",
    "    TimeDistributed(Dense(100, activation='relu')), \n",
    "    Flatten(),\n",
    "    Dense(1)  # Output layer\n",
    "])\n",
    "\n",
    "# ModelCheckpoint to save the best multivariate_lstm based on validation loss\n",
    "model_checkpoint = ModelCheckpoint('multivariate_lstm.keras', monitor='val_loss', save_best_only=True)\n",
    "\n",
    "# EarlyStopping to prevent overfitting\n",
    "early_stopping = EarlyStopping(monitor='val_loss', patience=10, restore_best_weights=True)\n",
    "\n",
    "# Optimizer with adjusted learning rate\n",
    "optimizer = Adam(learning_rate=6e-3, amsgrad=True)\n",
    "\n",
    "# Loss function and metric\n",
    "loss = tf.keras.losses.MeanSquaredError()\n",
    "metric = [tf.keras.metrics.RootMeanSquaredError()]\n",
    "\n",
    "# Compile the multivariate_lstm\n",
    "multivariate_lstm.compile(loss=loss, optimizer=optimizer, metrics=metric)\n",
    "\n",
    "# Train the multivariate_lstm (make sure you pass both x_val and y_val)\n",
    "history = multivariate_lstm.fit(x_train, y_train, epochs=120,\n",
    "                                validation_data=(x_val, y_val),\n",
    "                                callbacks=[early_stopping, model_checkpoint])\n",
    "\n",
    "# Optionally, print the final RMSE\n",
    "train_rmse = history.history['root_mean_squared_error'][-1]\n",
    "val_rmse = history.history['val_root_mean_squared_error'][-1]\n",
    "print(f\"Final train RMSE: {train_rmse}\")\n",
    "print(f\"Final validation RMSE: {val_rmse}\")\n",
    "\n",
    "model_performance.append({\n",
    "    'multivariate_lstm': multivariate_lstm,\n",
    "    'Train RMSE': train_rmse,\n",
    "    'Validation RMSE': val_rmse\n",
    "})"
   ]
  },
  {
   "cell_type": "code",
   "execution_count": 11,
   "metadata": {},
   "outputs": [
    {
     "name": "stdout",
     "output_type": "stream",
     "text": [
      "\u001b[1m5/5\u001b[0m \u001b[32m━━━━━━━━━━━━━━━━━━━━\u001b[0m\u001b[37m\u001b[0m \u001b[1m0s\u001b[0m 37ms/step\n"
     ]
    }
   ],
   "source": [
    "from tensorflow.keras.models import load_model\n",
    "best_model = load_model('multivariate_lstm.keras')\n",
    "y_pred = best_model.predict(x_val)"
   ]
  },
  {
   "cell_type": "code",
   "execution_count": 12,
   "metadata": {},
   "outputs": [
    {
     "data": {
      "image/png": "[encoded data removed]",
      "text/plain": [
       "<Figure size 1200x600 with 1 Axes>"
      ]
     },
     "metadata": {},
     "output_type": "display_data"
    }
   ],
   "source": [
    "import matplotlib.pyplot as plt\n",
    "import matplotlib.dates as mdates\n",
    "\n",
    "y_pred = y_pred.flatten()\n",
    "predictions_df = pd.DataFrame(y_pred, index=datetime_index, columns=['Predicted'])\n",
    "predictions_df = predictions_df.sort_index()\n",
    "y_val = y_val.sort_index()\n",
    "\n",
    "# Plotting y_actual vs y_pred\n",
    "plt.figure(figsize=(12, 6))\n",
    "plt.plot(y_val.index, y_val, label='Actual', marker='o')\n",
    "plt.plot(y_val.index, predictions_df['Predicted'], label='Predicted', marker='x')\n",
    "plt.title('Actual vs Predicted Values MultiVariateLSTM')\n",
    "plt.xlabel('DateTime')\n",
    "plt.ylabel('Values')\n",
    "\n",
    "# Rotate the x-axis labels for better visibility\n",
    "plt.xticks(rotation=45)\n",
    "plt.legend()\n",
    "plt.grid()\n",
    "plt.tight_layout()\n",
    "plt.show()"
   ]
  },
  {
   "cell_type": "code",
   "execution_count": null,
   "metadata": {},
   "outputs": [
    {
     "data": {
      "application/vnd.plotly.v1+json": {
       "config": {
        "plotlyServerURL": "https://plot.ly"
       },
       "data": [
        {
         "mode": "lines",
         "name": "Predicted",
         "type": "scatter",
         "x": [
          "2023-09-27T00:00:00",
          "2023-09-28T00:00:00",
          "2023-09-29T00:00:00",
          "2023-10-02T00:00:00",
          "2023-10-03T00:00:00",
          "2023-10-04T00:00:00",
          "2023-10-05T00:00:00",
          "2023-10-06T00:00:00",
          "2023-10-09T00:00:00",
          "2023-10-10T00:00:00",
          "2023-10-11T00:00:00",
          "2023-10-13T00:00:00",
          "2023-10-17T00:00:00",
          "2023-10-18T00:00:00",
          "2023-10-19T00:00:00",
          "2023-10-20T00:00:00",
          "2023-10-23T00:00:00",
          "2023-10-24T00:00:00",
          "2023-10-25T00:00:00",
          "2023-10-26T00:00:00",
          "2023-10-27T00:00:00",
          "2023-10-30T00:00:00",
          "2023-10-31T00:00:00",
          "2023-11-01T00:00:00",
          "2023-11-03T00:00:00",
          "2023-11-06T00:00:00",
          "2023-11-07T00:00:00",
          "2023-11-08T00:00:00",
          "2023-11-09T00:00:00",
          "2023-11-10T00:00:00",
          "2023-11-13T00:00:00",
          "2023-11-14T00:00:00",
          "2023-11-16T00:00:00",
          "2023-11-20T00:00:00",
          "2023-11-21T00:00:00",
          "2023-11-22T00:00:00",
          "2023-11-23T00:00:00",
          "2023-11-24T00:00:00",
          "2023-11-27T00:00:00",
          "2023-11-28T00:00:00",
          "2023-11-29T00:00:00",
          "2023-11-30T00:00:00",
          "2023-12-01T00:00:00",
          "2023-12-04T00:00:00",
          "2023-12-05T00:00:00",
          "2023-12-06T00:00:00",
          "2023-12-07T00:00:00",
          "2023-12-08T00:00:00",
          "2023-12-11T00:00:00",
          "2023-12-12T00:00:00",
          "2023-12-13T00:00:00",
          "2023-12-14T00:00:00",
          "2023-12-15T00:00:00",
          "2023-12-18T00:00:00",
          "2023-12-19T00:00:00",
          "2023-12-20T00:00:00",
          "2023-12-21T00:00:00",
          "2023-12-22T00:00:00",
          "2023-12-26T00:00:00",
          "2023-12-27T00:00:00",
          "2023-12-28T00:00:00",
          "2023-12-29T00:00:00",
          "2024-01-02T00:00:00",
          "2024-01-03T00:00:00",
          "2024-01-04T00:00:00",
          "2024-01-05T00:00:00",
          "2024-01-08T00:00:00",
          "2024-01-09T00:00:00",
          "2024-01-10T00:00:00",
          "2024-01-11T00:00:00",
          "2024-01-12T00:00:00",
          "2024-01-15T00:00:00",
          "2024-01-16T00:00:00",
          "2024-01-17T00:00:00",
          "2024-01-18T00:00:00",
          "2024-01-19T00:00:00",
          "2024-01-22T00:00:00",
          "2024-01-23T00:00:00",
          "2024-01-24T00:00:00",
          "2024-01-25T00:00:00",
          "2024-01-26T00:00:00",
          "2024-01-29T00:00:00",
          "2024-01-30T00:00:00",
          "2024-01-31T00:00:00",
          "2024-02-01T00:00:00",
          "2024-02-02T00:00:00",
          "2024-02-05T00:00:00",
          "2024-02-06T00:00:00",
          "2024-02-07T00:00:00",
          "2024-02-08T00:00:00",
          "2024-02-09T00:00:00",
          "2024-02-14T00:00:00",
          "2024-02-15T00:00:00",
          "2024-02-16T00:00:00",
          "2024-02-19T00:00:00",
          "2024-02-20T00:00:00",
          "2024-02-21T00:00:00",
          "2024-02-22T00:00:00",
          "2024-02-23T00:00:00",
          "2024-02-26T00:00:00",
          "2024-02-27T00:00:00",
          "2024-02-28T00:00:00",
          "2024-02-29T00:00:00",
          "2024-03-01T00:00:00",
          "2024-03-04T00:00:00",
          "2024-03-05T00:00:00",
          "2024-03-06T00:00:00",
          "2024-03-07T00:00:00",
          "2024-03-08T00:00:00",
          "2024-03-09T00:00:00",
          "2024-03-11T00:00:00",
          "2024-03-12T00:00:00",
          "2024-03-13T00:00:00",
          "2024-03-14T00:00:00",
          "2024-03-15T00:00:00",
          "2024-03-16T00:00:00",
          "2024-03-17T00:00:00",
          "2024-03-18T00:00:00",
          "2024-03-19T00:00:00",
          "2024-03-20T00:00:00",
          "2024-03-21T00:00:00",
          "2024-03-22T00:00:00",
          "2024-03-23T00:00:00",
          "2024-03-24T00:00:00",
          "2024-03-25T00:00:00",
          "2024-03-26T00:00:00",
          "2024-03-27T00:00:00",
          "2024-03-28T00:00:00",
          "2024-03-30T00:00:00",
          "2024-03-31T00:00:00",
          "2024-04-01T00:00:00",
          "2024-04-02T00:00:00",
          "2024-04-03T00:00:00",
          "2024-04-04T00:00:00",
          "2024-04-05T00:00:00",
          "2024-04-06T00:00:00",
          "2024-04-07T00:00:00",
          "2024-04-08T00:00:00",
          "2024-04-09T00:00:00",
          "2024-04-10T00:00:00",
          "2024-04-11T00:00:00"
         ],
         "y": [
          76.81845092773438,
          77.89878845214844,
          97.40444946289062,
          150.5365447998047,
          133.63282775878906,
          78.13560485839844,
          67.95404052734375,
          69.9896469116211,
          95.78096771240234,
          67.98194122314453,
          68.21578979492188,
          84.01702117919922,
          86.07046508789062,
          89.97882080078125,
          82.53407287597656,
          65.04759979248047,
          74.48511505126953,
          75.90000915527344,
          77.00869750976562,
          78.17862701416016,
          78.4244155883789,
          86.86979675292969,
          77.51359558105469,
          62.91012191772461,
          73.43331909179688,
          66.1005630493164,
          82.62943267822266,
          90.74829864501953,
          88.25363159179688,
          84.952392578125,
          77.30746459960938,
          73.01779174804688,
          84.16803741455078,
          90.21051025390625,
          51.85673141479492,
          61.5086784362793,
          64.68660736083984,
          71.04959106445312,
          89.40267944335938,
          91.59038543701172,
          91.10767364501953,
          93.98309326171875,
          98.91398620605469,
          100.28871154785156,
          100.51770782470703,
          100.83234405517578,
          100.09646606445312,
          100.3252182006836,
          104.03445434570312,
          104.0689926147461,
          102.54800415039062,
          100.16580963134766,
          97.40706634521484,
          86.67949676513672,
          83.2216567993164,
          79.8052749633789,
          77.32369995117188,
          76.04122161865234,
          81.84269714355469,
          79.85281372070312,
          78.59729766845703,
          76.89764404296875,
          72.19618225097656,
          71.2965316772461,
          72.79161834716797,
          76.33615112304688,
          79.0041732788086,
          77.92919158935547,
          77.78162384033203,
          78.31019592285156,
          79.554931640625,
          75.89674377441406,
          74.84822845458984,
          73.49099731445312,
          85.15111541748047,
          83.00007629394531,
          72.73515319824219,
          67.99479675292969,
          65.87989807128906,
          67.5090103149414,
          64.90034484863281,
          57.81126022338867,
          54.135799407958984,
          51.850318908691406,
          52.551639556884766,
          57.04164505004883,
          60.02766799926758,
          59.10093307495117,
          57.530155181884766,
          56.34761428833008,
          55.91560363769531,
          51.9749870300293,
          50.192874908447266,
          49.590030670166016,
          53.386348724365234,
          55.468746185302734,
          60.22073745727539,
          63.528656005859375,
          66.72420501708984,
          64.02493286132812,
          60.55898666381836,
          58.6314582824707,
          56.372886657714844,
          55.539310455322266,
          56.86448669433594,
          55.505210876464844,
          53.75536346435547,
          52.43733596801758,
          50.12156677246094,
          49.640132904052734,
          50.2895622253418,
          50.76972961425781,
          52.0485725402832,
          53.71501159667969,
          55.45104217529297,
          57.70512771606445,
          58.2353630065918,
          59.07807540893555,
          60.87765884399414,
          62.18275833129883,
          63.36741256713867,
          64.95196533203125,
          67.40945434570312,
          70.76483154296875,
          72.98601531982422,
          74.59894561767578,
          76.22574615478516,
          78.80008697509766,
          81.90202331542969,
          83.70850372314453,
          84.30323028564453,
          83.58194732666016,
          79.96682739257812,
          77.07066345214844,
          73.60113525390625,
          71.5151138305664,
          68.6814956665039,
          67.21110534667969,
          66.70501708984375,
          66.70787048339844,
          65.8328857421875
         ]
        },
        {
         "mode": "lines",
         "name": "Actual",
         "type": "scatter",
         "x": [
          "2023-09-27T00:00:00",
          "2023-09-28T00:00:00",
          "2023-09-29T00:00:00",
          "2023-10-02T00:00:00",
          "2023-10-03T00:00:00",
          "2023-10-04T00:00:00",
          "2023-10-05T00:00:00",
          "2023-10-06T00:00:00",
          "2023-10-09T00:00:00",
          "2023-10-10T00:00:00",
          "2023-10-11T00:00:00",
          "2023-10-13T00:00:00",
          "2023-10-17T00:00:00",
          "2023-10-18T00:00:00",
          "2023-10-19T00:00:00",
          "2023-10-20T00:00:00",
          "2023-10-23T00:00:00",
          "2023-10-24T00:00:00",
          "2023-10-25T00:00:00",
          "2023-10-26T00:00:00",
          "2023-10-27T00:00:00",
          "2023-10-30T00:00:00",
          "2023-10-31T00:00:00",
          "2023-11-01T00:00:00",
          "2023-11-03T00:00:00",
          "2023-11-06T00:00:00",
          "2023-11-07T00:00:00",
          "2023-11-08T00:00:00",
          "2023-11-09T00:00:00",
          "2023-11-10T00:00:00",
          "2023-11-13T00:00:00",
          "2023-11-14T00:00:00",
          "2023-11-16T00:00:00",
          "2023-11-20T00:00:00",
          "2023-11-21T00:00:00",
          "2023-11-22T00:00:00",
          "2023-11-23T00:00:00",
          "2023-11-24T00:00:00",
          "2023-11-27T00:00:00",
          "2023-11-28T00:00:00",
          "2023-11-29T00:00:00",
          "2023-11-30T00:00:00",
          "2023-12-01T00:00:00",
          "2023-12-04T00:00:00",
          "2023-12-05T00:00:00",
          "2023-12-06T00:00:00",
          "2023-12-07T00:00:00",
          "2023-12-08T00:00:00",
          "2023-12-11T00:00:00",
          "2023-12-12T00:00:00",
          "2023-12-13T00:00:00",
          "2023-12-14T00:00:00",
          "2023-12-15T00:00:00",
          "2023-12-18T00:00:00",
          "2023-12-19T00:00:00",
          "2023-12-20T00:00:00",
          "2023-12-21T00:00:00",
          "2023-12-22T00:00:00",
          "2023-12-26T00:00:00",
          "2023-12-27T00:00:00",
          "2023-12-28T00:00:00",
          "2023-12-29T00:00:00",
          "2024-01-02T00:00:00",
          "2024-01-03T00:00:00",
          "2024-01-04T00:00:00",
          "2024-01-05T00:00:00",
          "2024-01-08T00:00:00",
          "2024-01-09T00:00:00",
          "2024-01-10T00:00:00",
          "2024-01-11T00:00:00",
          "2024-01-12T00:00:00",
          "2024-01-15T00:00:00",
          "2024-01-16T00:00:00",
          "2024-01-17T00:00:00",
          "2024-01-18T00:00:00",
          "2024-01-19T00:00:00",
          "2024-01-22T00:00:00",
          "2024-01-23T00:00:00",
          "2024-01-24T00:00:00",
          "2024-01-25T00:00:00",
          "2024-01-26T00:00:00",
          "2024-01-29T00:00:00",
          "2024-01-30T00:00:00",
          "2024-01-31T00:00:00",
          "2024-02-01T00:00:00",
          "2024-02-02T00:00:00",
          "2024-02-05T00:00:00",
          "2024-02-06T00:00:00",
          "2024-02-07T00:00:00",
          "2024-02-08T00:00:00",
          "2024-02-09T00:00:00",
          "2024-02-14T00:00:00",
          "2024-02-15T00:00:00",
          "2024-02-16T00:00:00",
          "2024-02-19T00:00:00",
          "2024-02-20T00:00:00",
          "2024-02-21T00:00:00",
          "2024-02-22T00:00:00",
          "2024-02-23T00:00:00",
          "2024-02-26T00:00:00",
          "2024-02-27T00:00:00",
          "2024-02-28T00:00:00",
          "2024-02-29T00:00:00",
          "2024-03-01T00:00:00",
          "2024-03-04T00:00:00",
          "2024-03-05T00:00:00",
          "2024-03-06T00:00:00",
          "2024-03-07T00:00:00",
          "2024-03-08T00:00:00",
          "2024-03-09T00:00:00",
          "2024-03-11T00:00:00",
          "2024-03-12T00:00:00",
          "2024-03-13T00:00:00",
          "2024-03-14T00:00:00",
          "2024-03-15T00:00:00",
          "2024-03-16T00:00:00",
          "2024-03-17T00:00:00",
          "2024-03-18T00:00:00",
          "2024-03-19T00:00:00",
          "2024-03-20T00:00:00",
          "2024-03-21T00:00:00",
          "2024-03-22T00:00:00",
          "2024-03-23T00:00:00",
          "2024-03-24T00:00:00",
          "2024-03-25T00:00:00",
          "2024-03-26T00:00:00",
          "2024-03-27T00:00:00",
          "2024-03-28T00:00:00",
          "2024-03-30T00:00:00",
          "2024-03-31T00:00:00",
          "2024-04-01T00:00:00",
          "2024-04-02T00:00:00",
          "2024-04-03T00:00:00",
          "2024-04-04T00:00:00",
          "2024-04-05T00:00:00",
          "2024-04-06T00:00:00",
          "2024-04-07T00:00:00",
          "2024-04-08T00:00:00",
          "2024-04-09T00:00:00",
          "2024-04-10T00:00:00",
          "2024-04-11T00:00:00"
         ],
         "y": [
          81.22,
          77.68,
          80.6,
          80,
          78.34,
          87.52,
          85.96,
          87.63,
          81.7,
          80.28,
          79.5,
          75.84,
          73.74,
          73,
          72.75,
          73.87,
          74.94,
          77.57,
          75.34,
          75.45,
          75.13,
          75.08,
          76.32,
          77.89,
          79.38,
          79.25,
          78.28,
          80.08,
          79.58,
          78.92,
          83.47,
          82.33,
          83.87,
          86.5,
          86,
          85.88,
          85.03,
          85.14,
          84.62,
          84.59,
          84.63,
          84.3,
          76.24,
          75.97,
          75.11,
          74.25,
          74.05,
          73.13,
          73.95,
          74.4,
          74.6,
          75.11,
          74.25,
          78.22,
          76.09,
          76.25,
          75.89,
          76.24,
          75.36,
          75.6,
          74.8,
          75.27,
          68.38,
          68.26,
          69.3,
          67.14,
          67.93,
          66.09,
          64.55,
          65.17,
          64.32,
          64.4,
          63.64,
          63.49,
          62.39,
          63.77,
          62.88,
          63.66,
          61.99,
          63.64,
          63.28,
          62.98,
          62.69,
          62.58,
          64.8,
          63.5,
          63,
          64.28,
          63.38,
          64.5,
          62.9,
          63.46,
          63.16,
          63.08,
          62.39,
          62.76,
          62.63,
          62.65,
          62.5,
          62.02,
          63.22,
          62.79,
          62.84,
          64.8,
          65.45,
          64.45,
          64.32,
          64.6,
          64.19,
          64.19,
          63.76,
          63.9,
          63.58,
          63.61,
          63.58,
          63.58,
          63.58,
          63.25,
          63.2,
          62.04,
          62.68,
          61.83,
          61.83,
          61.83,
          61.92,
          62.57,
          62.46,
          62.35,
          62.35,
          62.35,
          63.92,
          63.83,
          62.94,
          62.85,
          63.42,
          63.42,
          63.42,
          62.52,
          63.19,
          63.16,
          62.94
         ]
        },
        {
         "mode": "lines",
         "name": "Hydro_Inflow_NE(MWavg)",
         "type": "scatter",
         "x": [
          "2023-09-27T00:00:00",
          "2023-09-28T00:00:00",
          "2023-09-29T00:00:00",
          "2023-10-02T00:00:00",
          "2023-10-03T00:00:00",
          "2023-10-04T00:00:00",
          "2023-10-05T00:00:00",
          "2023-10-06T00:00:00",
          "2023-10-09T00:00:00",
          "2023-10-10T00:00:00",
          "2023-10-11T00:00:00",
          "2023-10-13T00:00:00",
          "2023-10-17T00:00:00",
          "2023-10-18T00:00:00",
          "2023-10-19T00:00:00",
          "2023-10-20T00:00:00",
          "2023-10-23T00:00:00",
          "2023-10-24T00:00:00",
          "2023-10-25T00:00:00",
          "2023-10-26T00:00:00",
          "2023-10-27T00:00:00",
          "2023-10-30T00:00:00",
          "2023-10-31T00:00:00",
          "2023-11-01T00:00:00",
          "2023-11-03T00:00:00",
          "2023-11-06T00:00:00",
          "2023-11-07T00:00:00",
          "2023-11-08T00:00:00",
          "2023-11-09T00:00:00",
          "2023-11-10T00:00:00",
          "2023-11-13T00:00:00",
          "2023-11-14T00:00:00",
          "2023-11-16T00:00:00",
          "2023-11-20T00:00:00",
          "2023-11-21T00:00:00",
          "2023-11-22T00:00:00",
          "2023-11-23T00:00:00",
          "2023-11-24T00:00:00",
          "2023-11-27T00:00:00",
          "2023-11-28T00:00:00",
          "2023-11-29T00:00:00",
          "2023-11-30T00:00:00",
          "2023-12-01T00:00:00",
          "2023-12-04T00:00:00",
          "2023-12-05T00:00:00",
          "2023-12-06T00:00:00",
          "2023-12-07T00:00:00",
          "2023-12-08T00:00:00",
          "2023-12-11T00:00:00",
          "2023-12-12T00:00:00",
          "2023-12-13T00:00:00",
          "2023-12-14T00:00:00",
          "2023-12-15T00:00:00",
          "2023-12-18T00:00:00",
          "2023-12-19T00:00:00",
          "2023-12-20T00:00:00",
          "2023-12-21T00:00:00",
          "2023-12-22T00:00:00",
          "2023-12-26T00:00:00",
          "2023-12-27T00:00:00",
          "2023-12-28T00:00:00",
          "2023-12-29T00:00:00",
          "2024-01-02T00:00:00",
          "2024-01-03T00:00:00",
          "2024-01-04T00:00:00",
          "2024-01-05T00:00:00",
          "2024-01-08T00:00:00",
          "2024-01-09T00:00:00",
          "2024-01-10T00:00:00",
          "2024-01-11T00:00:00",
          "2024-01-12T00:00:00",
          "2024-01-15T00:00:00",
          "2024-01-16T00:00:00",
          "2024-01-17T00:00:00",
          "2024-01-18T00:00:00",
          "2024-01-19T00:00:00",
          "2024-01-22T00:00:00",
          "2024-01-23T00:00:00",
          "2024-01-24T00:00:00",
          "2024-01-25T00:00:00",
          "2024-01-26T00:00:00",
          "2024-01-29T00:00:00",
          "2024-01-30T00:00:00",
          "2024-01-31T00:00:00",
          "2024-02-01T00:00:00",
          "2024-02-02T00:00:00",
          "2024-02-05T00:00:00",
          "2024-02-06T00:00:00",
          "2024-02-07T00:00:00",
          "2024-02-08T00:00:00",
          "2024-02-09T00:00:00",
          "2024-02-14T00:00:00",
          "2024-02-15T00:00:00",
          "2024-02-16T00:00:00",
          "2024-02-19T00:00:00",
          "2024-02-20T00:00:00",
          "2024-02-21T00:00:00",
          "2024-02-22T00:00:00",
          "2024-02-23T00:00:00",
          "2024-02-26T00:00:00",
          "2024-02-27T00:00:00",
          "2024-02-28T00:00:00",
          "2024-02-29T00:00:00",
          "2024-03-01T00:00:00",
          "2024-03-04T00:00:00",
          "2024-03-05T00:00:00",
          "2024-03-06T00:00:00",
          "2024-03-07T00:00:00",
          "2024-03-08T00:00:00",
          "2024-03-09T00:00:00",
          "2024-03-11T00:00:00",
          "2024-03-12T00:00:00",
          "2024-03-13T00:00:00",
          "2024-03-14T00:00:00",
          "2024-03-15T00:00:00",
          "2024-03-16T00:00:00",
          "2024-03-17T00:00:00",
          "2024-03-18T00:00:00",
          "2024-03-19T00:00:00",
          "2024-03-20T00:00:00",
          "2024-03-21T00:00:00",
          "2024-03-22T00:00:00",
          "2024-03-23T00:00:00",
          "2024-03-24T00:00:00",
          "2024-03-25T00:00:00",
          "2024-03-26T00:00:00",
          "2024-03-27T00:00:00",
          "2024-03-28T00:00:00",
          "2024-03-30T00:00:00",
          "2024-03-31T00:00:00",
          "2024-04-01T00:00:00",
          "2024-04-02T00:00:00",
          "2024-04-03T00:00:00",
          "2024-04-04T00:00:00",
          "2024-04-05T00:00:00",
          "2024-04-06T00:00:00",
          "2024-04-07T00:00:00",
          "2024-04-08T00:00:00",
          "2024-04-09T00:00:00",
          "2024-04-10T00:00:00",
          "2024-04-11T00:00:00"
         ],
         "y": [
          -0.7247776838753367,
          -0.7297490728243727,
          -0.7328265738801253,
          -0.753154920452052,
          -0.762117919846596,
          -0.7701650404243231,
          -0.7778106346007578,
          -0.7809746873481501,
          -0.7935717894582414,
          -0.7987191362436464,
          -0.8026483994242992,
          -0.8048741216624437,
          -0.7991754814984287,
          -0.7948256622292182,
          -0.7915696159673367,
          -0.7879299211945671,
          -0.7838261190577358,
          -0.7796492195520155,
          -0.7755198441863334,
          -0.7723074827416208,
          -0.7713174382225947,
          -0.7967199340547884,
          -0.7966325310350343,
          -0.7863498395213676,
          -0.7566704047836471,
          -0.7260902815935053,
          -0.7130002104270009,
          -0.7003859982910794,
          -0.6806357535870151,
          -0.6546984734645492,
          -0.6450019964748948,
          -0.6548292608327261,
          -0.6462897387506619,
          -0.5826425626354592,
          -0.585198032629949,
          -0.6021496947383586,
          -0.6300443952012399,
          -0.6623819100103083,
          -0.7521243293449849,
          -0.7770901773179866,
          -0.7922543508547158,
          -0.8017860875078626,
          -0.8091709916614744,
          -0.83830844755172,
          -0.8390733074381098,
          -0.8286993568891116,
          -0.8171419434120171,
          -0.8118112773059587,
          -0.8055996535284856,
          -0.8113140849943891,
          -0.8199880334550019,
          -0.8231523032075999,
          -0.8232474683366332,
          -0.7635909845679917,
          -0.72886417567384,
          -0.6995958823372932,
          -0.6735350260965614,
          -0.6560348582917991,
          -0.6596898268925053,
          -0.6531450166608128,
          -0.650606205989034,
          -0.6367185739209185,
          -0.5109992788585663,
          -0.4571174204613349,
          -0.41466215478760493,
          -0.3919265694693584,
          -0.4255013644975254,
          -0.4202669318538205,
          -0.4064422312953448,
          -0.39734382065247265,
          -0.3946412378212576,
          -0.3177934013482075,
          -0.2792659465895235,
          -0.2264260136481776,
          -0.1685110634257419,
          -0.06342797855130687,
          0.31105743744999603,
          0.4169235605699713,
          0.5184053605930373,
          0.6431184525948964,
          0.7859907405183806,
          1.0067601685477927,
          1.0086585968576864,
          0.9062517537210416,
          0.6084075685442979,
          0.3295953241481957,
          0.13705777259312696,
          0.15165038780357984,
          0.20831934421327447,
          0.2797865533048415,
          0.34643718162254433,
          0.515237752298814,
          0.5244746790337259,
          0.543216233463786,
          0.6008960835849575,
          0.6782576214579148,
          0.7700754785794665,
          0.9015206062273728,
          0.8913844599983552,
          0.9921770681809723,
          0.929420648356855,
          0.8236359689598325,
          0.7595115817046886,
          0.7113291981068786,
          0.5645553068201082,
          0.6318996507021627,
          0.6734496040433202,
          0.714411406506323,
          0.7757290985096624,
          0.7953043702471368,
          0.792693513847081,
          0.7862797914523115,
          0.7318691915251502,
          0.6576749113995456,
          0.5623013905979367,
          0.4589745121601515,
          0.3641061794773053,
          0.28596131958276944,
          0.2191497234805956,
          0.16024095618709724,
          0.11300466520781423,
          0.08552085575548472,
          0.06605288474585184,
          0.03988254103251366,
          0.009243392426434146,
          -0.02178189190404458,
          -0.040111453604816466,
          -0.05302131029437927,
          0.0005538696691386087,
          0.007681155258222782,
          0.003765546712817967,
          0.03972604689382086,
          0.1643992600159638,
          0.28376026916723707,
          0.4412147894367191,
          0.5360921695673704,
          0.6015197231605908,
          0.6038773678710649,
          0.5089515788868448,
          0.4132357073342545,
          0.37954439720335936
         ],
         "yaxis": "y2"
        }
       ],
       "layout": {
        "height": 600,
        "template": {
         "data": {
          "bar": [
           {
            "error_x": {
             "color": "#f2f5fa"
            },
            "error_y": {
             "color": "#f2f5fa"
            },
            "marker": {
             "line": {
              "color": "rgb(17,17,17)",
              "width": 0.5
             },
             "pattern": {
              "fillmode": "overlay",
              "size": 10,
              "solidity": 0.2
             }
            },
            "type": "bar"
           }
          ],
          "barpolar": [
           {
            "marker": {
             "line": {
              "color": "rgb(17,17,17)",
              "width": 0.5
             },
             "pattern": {
              "fillmode": "overlay",
              "size": 10,
              "solidity": 0.2
             }
            },
            "type": "barpolar"
           }
          ],
          "carpet": [
           {
            "aaxis": {
             "endlinecolor": "#A2B1C6",
             "gridcolor": "#506784",
             "linecolor": "#506784",
             "minorgridcolor": "#506784",
             "startlinecolor": "#A2B1C6"
            },
            "baxis": {
             "endlinecolor": "#A2B1C6",
             "gridcolor": "#506784",
             "linecolor": "#506784",
             "minorgridcolor": "#506784",
             "startlinecolor": "#A2B1C6"
            },
            "type": "carpet"
           }
          ],
          "choropleth": [
           {
            "colorbar": {
             "outlinewidth": 0,
             "ticks": ""
            },
            "type": "choropleth"
           }
          ],
          "contour": [
           {
            "colorbar": {
             "outlinewidth": 0,
             "ticks": ""
            },
            "colorscale": [
             [
              0,
              "#0d0887"
             ],
             [
              0.1111111111111111,
              "#46039f"
             ],
             [
              0.2222222222222222,
              "#7201a8"
             ],
             [
              0.3333333333333333,
              "#9c179e"
             ],
             [
              0.4444444444444444,
              "#bd3786"
             ],
             [
              0.5555555555555556,
              "#d8576b"
             ],
             [
              0.6666666666666666,
              "#ed7953"
             ],
             [
              0.7777777777777778,
              "#fb9f3a"
             ],
             [
              0.8888888888888888,
              "#fdca26"
             ],
             [
              1,
              "#f0f921"
             ]
            ],
            "type": "contour"
           }
          ],
          "contourcarpet": [
           {
            "colorbar": {
             "outlinewidth": 0,
             "ticks": ""
            },
            "type": "contourcarpet"
           }
          ],
          "heatmap": [
           {
            "colorbar": {
             "outlinewidth": 0,
             "ticks": ""
            },
            "colorscale": [
             [
              0,
              "#0d0887"
             ],
             [
              0.1111111111111111,
              "#46039f"
             ],
             [
              0.2222222222222222,
              "#7201a8"
             ],
             [
              0.3333333333333333,
              "#9c179e"
             ],
             [
              0.4444444444444444,
              "#bd3786"
             ],
             [
              0.5555555555555556,
              "#d8576b"
             ],
             [
              0.6666666666666666,
              "#ed7953"
             ],
             [
              0.7777777777777778,
              "#fb9f3a"
             ],
             [
              0.8888888888888888,
              "#fdca26"
             ],
             [
              1,
              "#f0f921"
             ]
            ],
            "type": "heatmap"
           }
          ],
          "heatmapgl": [
           {
            "colorbar": {
             "outlinewidth": 0,
             "ticks": ""
            },
            "colorscale": [
             [
              0,
              "#0d0887"
             ],
             [
              0.1111111111111111,
              "#46039f"
             ],
             [
              0.2222222222222222,
              "#7201a8"
             ],
             [
              0.3333333333333333,
              "#9c179e"
             ],
             [
              0.4444444444444444,
              "#bd3786"
             ],
             [
              0.5555555555555556,
              "#d8576b"
             ],
             [
              0.6666666666666666,
              "#ed7953"
             ],
             [
              0.7777777777777778,
              "#fb9f3a"
             ],
             [
              0.8888888888888888,
              "#fdca26"
             ],
             [
              1,
              "#f0f921"
             ]
            ],
            "type": "heatmapgl"
           }
          ],
          "histogram": [
           {
            "marker": {
             "pattern": {
              "fillmode": "overlay",
              "size": 10,
              "solidity": 0.2
             }
            },
            "type": "histogram"
           }
          ],
          "histogram2d": [
           {
            "colorbar": {
             "outlinewidth": 0,
             "ticks": ""
            },
            "colorscale": [
             [
              0,
              "#0d0887"
             ],
             [
              0.1111111111111111,
              "#46039f"
             ],
             [
              0.2222222222222222,
              "#7201a8"
             ],
             [
              0.3333333333333333,
              "#9c179e"
             ],
             [
              0.4444444444444444,
              "#bd3786"
             ],
             [
              0.5555555555555556,
              "#d8576b"
             ],
             [
              0.6666666666666666,
              "#ed7953"
             ],
             [
              0.7777777777777778,
              "#fb9f3a"
             ],
             [
              0.8888888888888888,
              "#fdca26"
             ],
             [
              1,
              "#f0f921"
             ]
            ],
            "type": "histogram2d"
           }
          ],
          "histogram2dcontour": [
           {
            "colorbar": {
             "outlinewidth": 0,
             "ticks": ""
            },
            "colorscale": [
             [
              0,
              "#0d0887"
             ],
             [
              0.1111111111111111,
              "#46039f"
             ],
             [
              0.2222222222222222,
              "#7201a8"
             ],
             [
              0.3333333333333333,
              "#9c179e"
             ],
             [
              0.4444444444444444,
              "#bd3786"
             ],
             [
              0.5555555555555556,
              "#d8576b"
             ],
             [
              0.6666666666666666,
              "#ed7953"
             ],
             [
              0.7777777777777778,
              "#fb9f3a"
             ],
             [
              0.8888888888888888,
              "#fdca26"
             ],
             [
              1,
              "#f0f921"
             ]
            ],
            "type": "histogram2dcontour"
           }
          ],
          "mesh3d": [
           {
            "colorbar": {
             "outlinewidth": 0,
             "ticks": ""
            },
            "type": "mesh3d"
           }
          ],
          "parcoords": [
           {
            "line": {
             "colorbar": {
              "outlinewidth": 0,
              "ticks": ""
             }
            },
            "type": "parcoords"
           }
          ],
          "pie": [
           {
            "automargin": true,
            "type": "pie"
           }
          ],
          "scatter": [
           {
            "marker": {
             "line": {
              "color": "#283442"
             }
            },
            "type": "scatter"
           }
          ],
          "scatter3d": [
           {
            "line": {
             "colorbar": {
              "outlinewidth": 0,
              "ticks": ""
             }
            },
            "marker": {
             "colorbar": {
              "outlinewidth": 0,
              "ticks": ""
             }
            },
            "type": "scatter3d"
           }
          ],
          "scattercarpet": [
           {
            "marker": {
             "colorbar": {
              "outlinewidth": 0,
              "ticks": ""
             }
            },
            "type": "scattercarpet"
           }
          ],
          "scattergeo": [
           {
            "marker": {
             "colorbar": {
              "outlinewidth": 0,
              "ticks": ""
             }
            },
            "type": "scattergeo"
           }
          ],
          "scattergl": [
           {
            "marker": {
             "line": {
              "color": "#283442"
             }
            },
            "type": "scattergl"
           }
          ],
          "scattermapbox": [
           {
            "marker": {
             "colorbar": {
              "outlinewidth": 0,
              "ticks": ""
             }
            },
            "type": "scattermapbox"
           }
          ],
          "scatterpolar": [
           {
            "marker": {
             "colorbar": {
              "outlinewidth": 0,
              "ticks": ""
             }
            },
            "type": "scatterpolar"
           }
          ],
          "scatterpolargl": [
           {
            "marker": {
             "colorbar": {
              "outlinewidth": 0,
              "ticks": ""
             }
            },
            "type": "scatterpolargl"
           }
          ],
          "scatterternary": [
           {
            "marker": {
             "colorbar": {
              "outlinewidth": 0,
              "ticks": ""
             }
            },
            "type": "scatterternary"
           }
          ],
          "surface": [
           {
            "colorbar": {
             "outlinewidth": 0,
             "ticks": ""
            },
            "colorscale": [
             [
              0,
              "#0d0887"
             ],
             [
              0.1111111111111111,
              "#46039f"
             ],
             [
              0.2222222222222222,
              "#7201a8"
             ],
             [
              0.3333333333333333,
              "#9c179e"
             ],
             [
              0.4444444444444444,
              "#bd3786"
             ],
             [
              0.5555555555555556,
              "#d8576b"
             ],
             [
              0.6666666666666666,
              "#ed7953"
             ],
             [
              0.7777777777777778,
              "#fb9f3a"
             ],
             [
              0.8888888888888888,
              "#fdca26"
             ],
             [
              1,
              "#f0f921"
             ]
            ],
            "type": "surface"
           }
          ],
          "table": [
           {
            "cells": {
             "fill": {
              "color": "#506784"
             },
             "line": {
              "color": "rgb(17,17,17)"
             }
            },
            "header": {
             "fill": {
              "color": "#2a3f5f"
             },
             "line": {
              "color": "rgb(17,17,17)"
             }
            },
            "type": "table"
           }
          ]
         },
         "layout": {
          "annotationdefaults": {
           "arrowcolor": "#f2f5fa",
           "arrowhead": 0,
           "arrowwidth": 1
          },
          "autotypenumbers": "strict",
          "coloraxis": {
           "colorbar": {
            "outlinewidth": 0,
            "ticks": ""
           }
          },
          "colorscale": {
           "diverging": [
            [
             0,
             "#8e0152"
            ],
            [
             0.1,
             "#c51b7d"
            ],
            [
             0.2,
             "#de77ae"
            ],
            [
             0.3,
             "#f1b6da"
            ],
            [
             0.4,
             "#fde0ef"
            ],
            [
             0.5,
             "#f7f7f7"
            ],
            [
             0.6,
             "#e6f5d0"
            ],
            [
             0.7,
             "#b8e186"
            ],
            [
             0.8,
             "#7fbc41"
            ],
            [
             0.9,
             "#4d9221"
            ],
            [
             1,
             "#276419"
            ]
           ],
           "sequential": [
            [
             0,
             "#0d0887"
            ],
            [
             0.1111111111111111,
             "#46039f"
            ],
            [
             0.2222222222222222,
             "#7201a8"
            ],
            [
             0.3333333333333333,
             "#9c179e"
            ],
            [
             0.4444444444444444,
             "#bd3786"
            ],
            [
             0.5555555555555556,
             "#d8576b"
            ],
            [
             0.6666666666666666,
             "#ed7953"
            ],
            [
             0.7777777777777778,
             "#fb9f3a"
            ],
            [
             0.8888888888888888,
             "#fdca26"
            ],
            [
             1,
             "#f0f921"
            ]
           ],
           "sequentialminus": [
            [
             0,
             "#0d0887"
            ],
            [
             0.1111111111111111,
             "#46039f"
            ],
            [
             0.2222222222222222,
             "#7201a8"
            ],
            [
             0.3333333333333333,
             "#9c179e"
            ],
            [
             0.4444444444444444,
             "#bd3786"
            ],
            [
             0.5555555555555556,
             "#d8576b"
            ],
            [
             0.6666666666666666,
             "#ed7953"
            ],
            [
             0.7777777777777778,
             "#fb9f3a"
            ],
            [
             0.8888888888888888,
             "#fdca26"
            ],
            [
             1,
             "#f0f921"
            ]
           ]
          },
          "colorway": [
           "#636efa",
           "#EF553B",
           "#00cc96",
           "#ab63fa",
           "#FFA15A",
           "#19d3f3",
           "#FF6692",
           "#B6E880",
           "#FF97FF",
           "#FECB52"
          ],
          "font": {
           "color": "#f2f5fa"
          },
          "geo": {
           "bgcolor": "rgb(17,17,17)",
           "lakecolor": "rgb(17,17,17)",
           "landcolor": "rgb(17,17,17)",
           "showlakes": true,
           "showland": true,
           "subunitcolor": "#506784"
          },
          "hoverlabel": {
           "align": "left"
          },
          "hovermode": "closest",
          "mapbox": {
           "style": "dark"
          },
          "paper_bgcolor": "rgb(17,17,17)",
          "plot_bgcolor": "rgb(17,17,17)",
          "polar": {
           "angularaxis": {
            "gridcolor": "#506784",
            "linecolor": "#506784",
            "ticks": ""
           },
           "bgcolor": "rgb(17,17,17)",
           "radialaxis": {
            "gridcolor": "#506784",
            "linecolor": "#506784",
            "ticks": ""
           }
          },
          "scene": {
           "xaxis": {
            "backgroundcolor": "rgb(17,17,17)",
            "gridcolor": "#506784",
            "gridwidth": 2,
            "linecolor": "#506784",
            "showbackground": true,
            "ticks": "",
            "zerolinecolor": "#C8D4E3"
           },
           "yaxis": {
            "backgroundcolor": "rgb(17,17,17)",
            "gridcolor": "#506784",
            "gridwidth": 2,
            "linecolor": "#506784",
            "showbackground": true,
            "ticks": "",
            "zerolinecolor": "#C8D4E3"
           },
           "zaxis": {
            "backgroundcolor": "rgb(17,17,17)",
            "gridcolor": "#506784",
            "gridwidth": 2,
            "linecolor": "#506784",
            "showbackground": true,
            "ticks": "",
            "zerolinecolor": "#C8D4E3"
           }
          },
          "shapedefaults": {
           "line": {
            "color": "#f2f5fa"
           }
          },
          "sliderdefaults": {
           "bgcolor": "#C8D4E3",
           "bordercolor": "rgb(17,17,17)",
           "borderwidth": 1,
           "tickwidth": 0
          },
          "ternary": {
           "aaxis": {
            "gridcolor": "#506784",
            "linecolor": "#506784",
            "ticks": ""
           },
           "baxis": {
            "gridcolor": "#506784",
            "linecolor": "#506784",
            "ticks": ""
           },
           "bgcolor": "rgb(17,17,17)",
           "caxis": {
            "gridcolor": "#506784",
            "linecolor": "#506784",
            "ticks": ""
           }
          },
          "title": {
           "x": 0.05
          },
          "updatemenudefaults": {
           "bgcolor": "#506784",
           "borderwidth": 0
          },
          "xaxis": {
           "automargin": true,
           "gridcolor": "#283442",
           "linecolor": "#506784",
           "ticks": "",
           "title": {
            "standoff": 15
           },
           "zerolinecolor": "#283442",
           "zerolinewidth": 2
          },
          "yaxis": {
           "automargin": true,
           "gridcolor": "#283442",
           "linecolor": "#506784",
           "ticks": "",
           "title": {
            "standoff": 15
           },
           "zerolinecolor": "#283442",
           "zerolinewidth": 2
          }
         }
        },
        "title": {
         "text": "Visualization of All Columns in the Dataset"
        },
        "width": 1200,
        "xaxis": {
         "tickangle": 45,
         "title": {
          "text": "DateTime or Index"
         }
        },
        "yaxis": {
         "title": {
          "text": "Values (df)"
         }
        },
        "yaxis2": {
         "overlaying": "y",
         "showgrid": false,
         "side": "right",
         "title": {
          "text": "Average Settlement Price (x_val_original)"
         }
        }
       }
      }
     },
     "metadata": {},
     "output_type": "display_data"
    }
   ],
   "source": [
    "import plotly.graph_objects as go\n",
    "\n",
    "# Assuming `df` is the DataFrame with 42 columns and `x_val_original` contains 'Average_Settlement_Price_SE/CW(MWh)'\n",
    "# Create the figure\n",
    "fig = go.Figure()\n",
    "\n",
    "# Plot the columns from df\n",
    "for column in predictions_df.columns:\n",
    "    fig.add_trace(go.Scatter(x=predictions_df.index, y=predictions_df[column], mode='lines', name=column))\n",
    "\n",
    "fig.add_trace(go.Scatter(x=y_val.index, y=y_val, mode='lines', name='Actual'))\n",
    "fig.add_trace(go.Scatter(x=x_val_original.index, y=x_val_original['Average_Settlement_Price_SE/CW(MWh)'], mode='lines', name='Average_Settlement_Price_SE/CW(MWh)'))\n",
    "\n",
    "# Plot the 'Average_Settlement_Price_SE/CW(MWh)' from x_val_original with a secondary y-axis\n",
    "fig.add_trace(go.Scatter(x=x_val_original.index, \n",
    "                         y=x_val_original['Hydro_Inflow_NE(MWavg)'], \n",
    "                         mode='lines', \n",
    "                         name='Hydro_Inflow_NE(MWavg)', \n",
    "                         yaxis='y2'))  # Use the second y-axis\n",
    "\n",
    "# Update layout to add a secondary y-axis\n",
    "fig.update_layout(\n",
    "    title='Visualization of All Columns in the Dataset',\n",
    "    xaxis_title=\"DateTime or Index\",\n",
    "    yaxis_title=\"Values (df)\",\n",
    "    yaxis2=dict(\n",
    "        title=\"Average Settlement Price (x_val_original)\",\n",
    "        overlaying=\"y\",  # Overlay the second y-axis on the primary y-axis\n",
    "        side=\"right\",  # Place the secondary y-axis on the right\n",
    "        showgrid=False  # Optionally hide the grid for the secondary y-axis\n",
    "    ),\n",
    "    xaxis_tickangle=45,  # Rotate x-axis labels for better visibility\n",
    "    template=\"plotly_dark\",  # Optional: change the theme\n",
    "    width=1200,  # Optional: adjust plot width\n",
    "    height=600,  # Optional: adjust plot height\n",
    ")\n",
    "\n",
    "# Show the interactive plot\n",
    "fig.show()\n"
   ]
  },
  {
   "cell_type": "markdown",
   "metadata": {},
   "source": [
    "## FINAL TESTING\n",
    "- training on val and train\n",
    "- testing on test"
   ]
  },
  {
   "cell_type": "code",
   "execution_count": 29,
   "metadata": {},
   "outputs": [],
   "source": [
    "x_train, x_val, x_test, y_train, y_val, y_test = build_pipeline_P0_foward_price(target_column='P0', drop_features=False)\n",
    "x_train = x_train[['Hydro_Inflow_N(MWavg)', 'Hydro_Inflow_NE(MWavg)',\n",
    "       'Hydro_Inflow_S(MWavg)', 'Hydro_Inflow_SE/CW(MWavg)',\n",
    "       'Daily_Sum_Hydro_Inflow(MWavg)']]\n",
    "x_val =  x_val[['Hydro_Inflow_N(MWavg)', 'Hydro_Inflow_NE(MWavg)',\n",
    "       'Hydro_Inflow_S(MWavg)', 'Hydro_Inflow_SE/CW(MWavg)',\n",
    "       'Daily_Sum_Hydro_Inflow(MWavg)']]\n",
    "x_test = x_test[['Hydro_Inflow_N(MWavg)', 'Hydro_Inflow_NE(MWavg)',\n",
    "       'Hydro_Inflow_S(MWavg)', 'Hydro_Inflow_SE/CW(MWavg)',\n",
    "       'Daily_Sum_Hydro_Inflow(MWavg)']]\n",
    "datetime_index = x_test.index\n",
    "#save these values for later\n",
    "X_test_last= x_test.sort_index()\n",
    "X_test_last = X_test_last.tail(10)\n",
    "datetime_index_final = X_test_last.index\n",
    "X_test_last = X_test_last.to_numpy()  # Convert DataFrame to NumPy array\n",
    "X_test_last = X_test_last.reshape(X_test_last.shape[0], 1, X_test_last.shape[1])\n",
    "y_test_last = y_test.sort_index()\n",
    "y_test_last = y_test_last.tail(10)\n",
    "\n",
    "x_train = x_train.to_numpy()\n",
    "x_val = x_val.to_numpy()\n",
    "x_test = x_test.to_numpy()\n",
    "y_train = y_train.to_numpy()\n",
    "y_val = y_val.to_numpy()\n",
    "y_test = y_test.to_numpy()\n",
    "\n",
    "# merge train and validation\n",
    "x_train_combined = np.vstack([x_train, x_val])  # Combine x_train and x_val\n",
    "y_train_combined = np.concatenate([y_train, y_val])  # Combine y_train and y_val\n",
    "\n",
    "#reshape\n",
    "x_train = x_train_combined.reshape(x_train_combined.shape[0], 1, x_train_combined.shape[1])  # [samples, time_steps=1, features]\n",
    "# Test data\n",
    "x_test = x_test.reshape(x_test.shape[0], 1, x_test.shape[1]) "
   ]
  },
  {
   "cell_type": "code",
   "execution_count": 30,
   "metadata": {},
   "outputs": [
    {
     "name": "stdout",
     "output_type": "stream",
     "text": [
      "Epoch 1/120\n"
     ]
    },
    {
     "name": "stderr",
     "output_type": "stream",
     "text": [
      "C:\\Users\\veron\\AppData\\Local\\Packages\\PythonSoftwareFoundation.Python.3.10_qbz5n2kfra8p0\\LocalCache\\local-packages\\Python310\\site-packages\\keras\\src\\layers\\rnn\\rnn.py:204: UserWarning:\n",
      "\n",
      "Do not pass an `input_shape`/`input_dim` argument to a layer. When using Sequential models, prefer using an `Input(shape)` object as the first layer in the model instead.\n",
      "\n"
     ]
    },
    {
     "name": "stdout",
     "output_type": "stream",
     "text": [
      "\u001b[1m23/23\u001b[0m \u001b[32m━━━━━━━━━━━━━━━━━━━━\u001b[0m\u001b[37m\u001b[0m \u001b[1m2s\u001b[0m 16ms/step - loss: 26901.8887 - root_mean_squared_error: 163.9721 - val_loss: 23237.1836 - val_root_mean_squared_error: 152.4375\n",
      "Epoch 2/120\n",
      "\u001b[1m23/23\u001b[0m \u001b[32m━━━━━━━━━━━━━━━━━━━━\u001b[0m\u001b[37m\u001b[0m \u001b[1m0s\u001b[0m 5ms/step - loss: 21055.2227 - root_mean_squared_error: 145.0544 - val_loss: 10028.6670 - val_root_mean_squared_error: 100.1432\n",
      "Epoch 3/120\n",
      "\u001b[1m23/23\u001b[0m \u001b[32m━━━━━━━━━━━━━━━━━━━━\u001b[0m\u001b[37m\u001b[0m \u001b[1m0s\u001b[0m 4ms/step - loss: 13325.2959 - root_mean_squared_error: 115.4137 - val_loss: 9457.1514 - val_root_mean_squared_error: 97.2479\n",
      "Epoch 4/120\n",
      "\u001b[1m23/23\u001b[0m \u001b[32m━━━━━━━━━━━━━━━━━━━━\u001b[0m\u001b[37m\u001b[0m \u001b[1m0s\u001b[0m 5ms/step - loss: 12418.6562 - root_mean_squared_error: 111.4090 - val_loss: 8633.1572 - val_root_mean_squared_error: 92.9148\n",
      "Epoch 5/120\n",
      "\u001b[1m23/23\u001b[0m \u001b[32m━━━━━━━━━━━━━━━━━━━━\u001b[0m\u001b[37m\u001b[0m \u001b[1m0s\u001b[0m 5ms/step - loss: 11599.9922 - root_mean_squared_error: 107.6665 - val_loss: 8539.2314 - val_root_mean_squared_error: 92.4080\n",
      "Epoch 6/120\n",
      "\u001b[1m23/23\u001b[0m \u001b[32m━━━━━━━━━━━━━━━━━━━━\u001b[0m\u001b[37m\u001b[0m \u001b[1m0s\u001b[0m 5ms/step - loss: 11395.7764 - root_mean_squared_error: 106.7302 - val_loss: 8507.0596 - val_root_mean_squared_error: 92.2337\n",
      "Epoch 7/120\n",
      "\u001b[1m23/23\u001b[0m \u001b[32m━━━━━━━━━━━━━━━━━━━━\u001b[0m\u001b[37m\u001b[0m \u001b[1m0s\u001b[0m 4ms/step - loss: 10753.9766 - root_mean_squared_error: 103.6740 - val_loss: 8543.9395 - val_root_mean_squared_error: 92.4334\n",
      "Epoch 8/120\n",
      "\u001b[1m23/23\u001b[0m \u001b[32m━━━━━━━━━━━━━━━━━━━━\u001b[0m\u001b[37m\u001b[0m \u001b[1m0s\u001b[0m 3ms/step - loss: 10688.7109 - root_mean_squared_error: 103.3556 - val_loss: 8743.5068 - val_root_mean_squared_error: 93.5067\n",
      "Epoch 9/120\n",
      "\u001b[1m23/23\u001b[0m \u001b[32m━━━━━━━━━━━━━━━━━━━━\u001b[0m\u001b[37m\u001b[0m \u001b[1m0s\u001b[0m 4ms/step - loss: 10584.1357 - root_mean_squared_error: 102.8561 - val_loss: 8869.3613 - val_root_mean_squared_error: 94.1773\n",
      "Epoch 10/120\n",
      "\u001b[1m23/23\u001b[0m \u001b[32m━━━━━━━━━━━━━━━━━━━━\u001b[0m\u001b[37m\u001b[0m \u001b[1m0s\u001b[0m 4ms/step - loss: 9674.7617 - root_mean_squared_error: 98.3185 - val_loss: 9246.8984 - val_root_mean_squared_error: 96.1608\n",
      "Epoch 11/120\n",
      "\u001b[1m23/23\u001b[0m \u001b[32m━━━━━━━━━━━━━━━━━━━━\u001b[0m\u001b[37m\u001b[0m \u001b[1m0s\u001b[0m 3ms/step - loss: 9480.9736 - root_mean_squared_error: 97.2934 - val_loss: 9622.9043 - val_root_mean_squared_error: 98.0964\n",
      "Epoch 12/120\n",
      "\u001b[1m23/23\u001b[0m \u001b[32m━━━━━━━━━━━━━━━━━━━━\u001b[0m\u001b[37m\u001b[0m \u001b[1m0s\u001b[0m 4ms/step - loss: 8952.6074 - root_mean_squared_error: 94.5618 - val_loss: 9663.7969 - val_root_mean_squared_error: 98.3046\n",
      "Epoch 13/120\n",
      "\u001b[1m23/23\u001b[0m \u001b[32m━━━━━━━━━━━━━━━━━━━━\u001b[0m\u001b[37m\u001b[0m \u001b[1m0s\u001b[0m 4ms/step - loss: 9022.8564 - root_mean_squared_error: 94.9348 - val_loss: 10011.0244 - val_root_mean_squared_error: 100.0551\n",
      "Epoch 14/120\n",
      "\u001b[1m23/23\u001b[0m \u001b[32m━━━━━━━━━━━━━━━━━━━━\u001b[0m\u001b[37m\u001b[0m \u001b[1m0s\u001b[0m 4ms/step - loss: 8423.2900 - root_mean_squared_error: 91.7408 - val_loss: 10079.7803 - val_root_mean_squared_error: 100.3981\n",
      "Epoch 15/120\n",
      "\u001b[1m23/23\u001b[0m \u001b[32m━━━━━━━━━━━━━━━━━━━━\u001b[0m\u001b[37m\u001b[0m \u001b[1m0s\u001b[0m 4ms/step - loss: 7877.1963 - root_mean_squared_error: 88.6556 - val_loss: 10596.7432 - val_root_mean_squared_error: 102.9405\n",
      "Epoch 16/120\n",
      "\u001b[1m23/23\u001b[0m \u001b[32m━━━━━━━━━━━━━━━━━━━━\u001b[0m\u001b[37m\u001b[0m \u001b[1m0s\u001b[0m 4ms/step - loss: 8649.7852 - root_mean_squared_error: 92.9827 - val_loss: 11104.7021 - val_root_mean_squared_error: 105.3789\n",
      "Final train RMSE: 95.15225219726562\n",
      "Final test RMSE: 105.37885284423828\n"
     ]
    }
   ],
   "source": [
    "from tensorflow.keras.initializers import GlorotUniform\n",
    "# Build the LSTM model\n",
    "multivariate_lstm = Sequential([\n",
    "    LSTM(105, input_shape=(x_train.shape[1], x_train.shape[2]), kernel_initializer=GlorotUniform(seed=42), return_sequences=True),\n",
    "    Dropout(0.4),\n",
    "    TimeDistributed(Dense(75, activation='selu', kernel_initializer=GlorotUniform(seed=42))), \n",
    "    Dropout(0.2),\n",
    "    Flatten(),\n",
    "    Dense(1)  # Output layer\n",
    "])\n",
    "\n",
    "# ModelCheckpoint to save the best model based on validation loss\n",
    "model_checkpoint = ModelCheckpoint('multivariate_lstm.keras', monitor='val_loss', save_best_only=True)\n",
    "\n",
    "# EarlyStopping to prevent overfitting\n",
    "early_stopping = EarlyStopping(monitor='val_loss', patience=10, restore_best_weights=True)\n",
    "\n",
    "# Optimizer with adjusted learning rate\n",
    "optimizer = Adam(learning_rate=6e-3, amsgrad=True, clipnorm=1.0)\n",
    "#optimizer = Adam(learning_rate=0.001, clipnorm=1.0)\n",
    "\n",
    "# Loss function and metric\n",
    "loss = tf.keras.losses.MeanSquaredError()\n",
    "metric = [tf.keras.metrics.RootMeanSquaredError()]\n",
    "\n",
    "# Compile the model\n",
    "multivariate_lstm.compile(loss=loss, optimizer=optimizer, metrics=metric)\n",
    "\n",
    "history = multivariate_lstm.fit(x_train, y_train_combined, epochs=120,\n",
    "                                validation_data=(x_test, y_test),\n",
    "                                callbacks=[early_stopping, model_checkpoint])\n",
    "\n",
    "# Optionally, print the final RMSE\n",
    "train_rmse = history.history['root_mean_squared_error'][-1]\n",
    "val_rmse = history.history['val_root_mean_squared_error'][-1]\n",
    "print(f\"Final train RMSE: {train_rmse}\")\n",
    "print(f\"Final test RMSE: {val_rmse}\")\n",
    "model_performance.append({\n",
    "    'Model': '1st Model',\n",
    "    'LayerExtra': 'TimeDistributed, LSTM',\n",
    "    'Train RMSE': train_rmse,\n",
    "    'Validation RMSE': val_rmse\n",
    "})"
   ]
  },
  {
   "cell_type": "code",
   "execution_count": 31,
   "metadata": {},
   "outputs": [
    {
     "name": "stdout",
     "output_type": "stream",
     "text": [
      "WARNING:tensorflow:5 out of the last 13 calls to <function TensorFlowTrainer.make_predict_function.<locals>.one_step_on_data_distributed at 0x000001FE0E4CAF80> triggered tf.function retracing. Tracing is expensive and the excessive number of tracings could be due to (1) creating @tf.function repeatedly in a loop, (2) passing tensors with different shapes, (3) passing Python objects instead of tensors. For (1), please define your @tf.function outside of the loop. For (2), @tf.function has reduce_retracing=True option that can avoid unnecessary retracing. For (3), please refer to https://www.tensorflow.org/guide/function#controlling_retracing and https://www.tensorflow.org/api_docs/python/tf/function for  more details.\n",
      "\u001b[1m6/6\u001b[0m \u001b[32m━━━━━━━━━━━━━━━━━━━━\u001b[0m\u001b[37m\u001b[0m \u001b[1m0s\u001b[0m 37ms/step\n"
     ]
    }
   ],
   "source": [
    "from tensorflow.keras.models import load_model\n",
    "best_model = load_model('multivariate_lstm.keras')\n",
    "y_pred = best_model.predict(x_test)"
   ]
  },
  {
   "cell_type": "code",
   "execution_count": 32,
   "metadata": {},
   "outputs": [
    {
     "data": {
      "image/png": "[encoded data removed]",
      "text/plain": [
       "<Figure size 1200x600 with 1 Axes>"
      ]
     },
     "metadata": {},
     "output_type": "display_data"
    }
   ],
   "source": [
    "import matplotlib.pyplot as plt\n",
    "import matplotlib.dates as mdates\n",
    "\n",
    "y_pred = y_pred.flatten()\n",
    "predictions_df = pd.DataFrame(y_pred, index=datetime_index, columns=['Predicted'])\n",
    "y_test_df = pd.DataFrame(y_test, index=datetime_index, columns=['Actual'])\n",
    "predictions_df = predictions_df.sort_index()\n",
    "y_test_df = y_test_df.sort_index()\n",
    "\n",
    "# Plotting y_actual vs y_pred\n",
    "plt.figure(figsize=(12, 6))\n",
    "plt.plot(predictions_df.index, y_test_df['Actual'], label='Actual', marker='o')\n",
    "plt.plot(y_test_df.index, predictions_df['Predicted'], label='Predicted', marker='x')\n",
    "plt.title('Actual vs Predicted Values MultiVariateLSTM on TEST')\n",
    "plt.xlabel('DateTime')\n",
    "plt.ylabel('Values')\n",
    "\n",
    "# Rotate the x-axis labels for better visibility\n",
    "plt.xticks(rotation=45)\n",
    "plt.legend()\n",
    "plt.grid()\n",
    "plt.tight_layout()\n",
    "plt.show()"
   ]
  },
  {
   "cell_type": "markdown",
   "metadata": {},
   "source": [
    "Last 10 values prediction"
   ]
  },
  {
   "cell_type": "code",
   "execution_count": 33,
   "metadata": {},
   "outputs": [
    {
     "name": "stdout",
     "output_type": "stream",
     "text": [
      "\u001b[1m1/1\u001b[0m \u001b[32m━━━━━━━━━━━━━━━━━━━━\u001b[0m\u001b[37m\u001b[0m \u001b[1m0s\u001b[0m 142ms/step\n"
     ]
    }
   ],
   "source": [
    "from tensorflow.keras.models import load_model\n",
    "best_model = load_model('multivariate_lstm.keras')\n",
    "y_pred = best_model.predict(X_test_last)"
   ]
  },
  {
   "cell_type": "code",
   "execution_count": 34,
   "metadata": {},
   "outputs": [
    {
     "data": {
      "image/png": "[encoded data removed]",
      "text/plain": [
       "<Figure size 1200x600 with 1 Axes>"
      ]
     },
     "metadata": {},
     "output_type": "display_data"
    }
   ],
   "source": [
    "import matplotlib.pyplot as plt\n",
    "import matplotlib.dates as mdates\n",
    "y_pred = y_pred.flatten()\n",
    "predictions_df = pd.DataFrame(y_pred, index=datetime_index_final, columns=['Predicted'])\n",
    "predictions_df = predictions_df.sort_index()\n",
    "\n",
    "# Plotting y_actual vs y_pred\n",
    "plt.figure(figsize=(12, 6))\n",
    "plt.plot(y_test_last.index, y_test_last, label='Actual', marker='o')\n",
    "plt.plot(predictions_df.index, predictions_df['Predicted'], label='Predicted', marker='x')\n",
    "plt.title('Actual vs Predicted Values MultiVariateLSTM on TEST')\n",
    "plt.xlabel('DateTime')\n",
    "plt.ylabel('Values')\n",
    "\n",
    "# Rotate the x-axis labels for better visibility\n",
    "plt.xticks(rotation=45)\n",
    "plt.legend()\n",
    "plt.grid()\n",
    "plt.tight_layout()\n",
    "plt.show()"
   ]
  }
 ],
 "metadata": {
  "kernelspec": {
   "display_name": "Python 3",
   "language": "python",
   "name": "python3"
  },
  "language_info": {
   "codemirror_mode": {
    "name": "ipython",
    "version": 3
   },
   "file_extension": ".py",
   "mimetype": "text/x-python",
   "name": "python",
   "nbconvert_exporter": "python",
   "pygments_lexer": "ipython3",
   "version": "3.10.11"
  }
 },
 "nbformat": 4,
 "nbformat_minor": 2
}
