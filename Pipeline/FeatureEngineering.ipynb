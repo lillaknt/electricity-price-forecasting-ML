{
 "cells": [
  {
   "cell_type": "code",
   "execution_count": null,
   "metadata": {},
   "outputs": [],
   "source": [
    "from sklearn.model_selection import train_test_split\n",
    "import pandas as pd\n",
    "import os\n",
    "import sys\n",
    "from sklearn.model_selection import TimeSeriesSplit\n",
    "from sklearn.preprocessing import StandardScaler, MinMaxScaler\n",
    "# Get the directory of the current script\n",
    "try:\n",
    "    # This will work if the script is being run as a file\n",
    "    current_dir = os.path.dirname(os.path.abspath(__file__))\n",
    "except NameError:\n",
    "    # Use the current working directory if __file__ is not defined\n",
    "    current_dir = os.getcwd()\n",
    "# Move up one directory level from EDA to the parent directory\n",
    "parent_dir = os.path.dirname(current_dir)\n",
    "# Construct the path to the xdrive folder\n",
    "xdrive_path = os.path.join(parent_dir, 'xdrive')\n",
    "# Add the xdrive path to sys.path\n",
    "sys.path.append(xdrive_path)\n",
    "\n",
    "# Now you can import your module from xdrive\n",
    "import get_files_from_xdrive as gxdrive\n",
    "#call files from xdrive, merge them together as needed\n",
    "import numpy as np"
   ]
  }
 ],
 "metadata": {
  "kernelspec": {
   "display_name": "Python 3",
   "language": "python",
   "name": "python3"
  },
  "language_info": {
   "name": "python",
   "version": "3.12.4"
  }
 },
 "nbformat": 4,
 "nbformat_minor": 2
}
