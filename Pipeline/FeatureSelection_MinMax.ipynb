{
 "cells": [
  {
   "cell_type": "markdown",
   "metadata": {},
   "source": [
    "# Feature Selection"
   ]
  },
  {
   "cell_type": "code",
   "execution_count": 34,
   "metadata": {},
   "outputs": [
    {
     "name": "stderr",
     "output_type": "stream",
     "text": [
      "c:\\Users\\veron\\Desktop\\9th semester\\Bachelor1\\Code\\BachelorProject\\Feature Engineering\\split_test_and_train.py:32: SettingWithCopyWarning: \n",
      "A value is trying to be set on a copy of a slice from a DataFrame.\n",
      "Try using .loc[row_indexer,col_indexer] = value instead\n",
      "\n",
      "See the caveats in the documentation: https://pandas.pydata.org/pandas-docs/stable/user_guide/indexing.html#returning-a-view-versus-a-copy\n",
      "  X['DateTime'] = (X['DateTime'] - pd.Timestamp('1970-01-01')) // pd.Timedelta('1s')\n",
      "c:\\Users\\veron\\Desktop\\9th semester\\Bachelor1\\Code\\BachelorProject\\Feature Engineering\\split_test_and_train.py:33: SettingWithCopyWarning: \n",
      "A value is trying to be set on a copy of a slice from a DataFrame.\n",
      "Try using .loc[row_indexer,col_indexer] = value instead\n",
      "\n",
      "See the caveats in the documentation: https://pandas.pydata.org/pandas-docs/stable/user_guide/indexing.html#returning-a-view-versus-a-copy\n",
      "  X['Delivery_Start_Date_Forward_Price'] = pd.to_datetime(X['Delivery_Start_Date_Forward_Price'] )\n",
      "c:\\Users\\veron\\Desktop\\9th semester\\Bachelor1\\Code\\BachelorProject\\Feature Engineering\\split_test_and_train.py:34: SettingWithCopyWarning: \n",
      "A value is trying to be set on a copy of a slice from a DataFrame.\n",
      "Try using .loc[row_indexer,col_indexer] = value instead\n",
      "\n",
      "See the caveats in the documentation: https://pandas.pydata.org/pandas-docs/stable/user_guide/indexing.html#returning-a-view-versus-a-copy\n",
      "  X['Delivery_Start_Date_Forward_Price'] = (X['Delivery_Start_Date_Forward_Price'] - pd.Timestamp('1970-01-01')) // pd.Timedelta('1s')\n"
     ]
    }
   ],
   "source": [
    "import numpy as np\n",
    "import pandas as pd\n",
    "import matplotlib.pyplot as plt\n",
    "import seaborn as sns\n",
    "from scipy.stats import kstest, shapiro, anderson, normaltest, chi2_contingency\n",
    "import split_test_and_train as splt\n",
    "\n",
    "# Load your X_testset\n",
    "X_test,y_test, X_train, X_val, y_train, y_val = splt.split_data_into_test_train_validation()\n",
    "X_train_scaled = splt.scale_data_set_with_min_max_scaler(X_train)"
   ]
  },
  {
   "cell_type": "code",
   "execution_count": 35,
   "metadata": {},
   "outputs": [
    {
     "data": {
      "text/plain": [
       "(48466, 41)"
      ]
     },
     "execution_count": 35,
     "metadata": {},
     "output_type": "execute_result"
    }
   ],
   "source": [
    "X_train.shape"
   ]
  },
  {
   "cell_type": "markdown",
   "metadata": {},
   "source": [
    "https://scikit-learn.org/1.5/modules/feature_selection.html\n"
   ]
  },
  {
   "cell_type": "markdown",
   "metadata": {},
   "source": [
    "Removing features with low variance\n",
    "- removed 3 columns (Wind, Nuclear and Hydroelectric)"
   ]
  },
  {
   "cell_type": "code",
   "execution_count": 36,
   "metadata": {},
   "outputs": [],
   "source": [
    "from sklearn.feature_selection import VarianceThreshold\n",
    "sel = VarianceThreshold(threshold=(.99 * (1 - .99)))\n",
    "X_reduced = sel.fit_transform(X_train_scaled)\n",
    "variances = sel.variances_"
   ]
  },
  {
   "cell_type": "code",
   "execution_count": 37,
   "metadata": {},
   "outputs": [
    {
     "data": {
      "text/html": [
       "<div>\n",
       "<style scoped>\n",
       "    .dataframe tbody tr th:only-of-type {\n",
       "        vertical-align: middle;\n",
       "    }\n",
       "\n",
       "    .dataframe tbody tr th {\n",
       "        vertical-align: top;\n",
       "    }\n",
       "\n",
       "    .dataframe thead th {\n",
       "        text-align: right;\n",
       "    }\n",
       "</style>\n",
       "<table border=\"1\" class=\"dataframe\">\n",
       "  <thead>\n",
       "    <tr style=\"text-align: right;\">\n",
       "      <th></th>\n",
       "      <th>Feature</th>\n",
       "      <th>Variance</th>\n",
       "    </tr>\n",
       "  </thead>\n",
       "  <tbody>\n",
       "    <tr>\n",
       "      <th>22</th>\n",
       "      <td>Thermal_capacity_NE(MWavg)</td>\n",
       "      <td>0.216878</td>\n",
       "    </tr>\n",
       "    <tr>\n",
       "      <th>28</th>\n",
       "      <td>Wind_capacity_S(MWavg)</td>\n",
       "      <td>0.182112</td>\n",
       "    </tr>\n",
       "    <tr>\n",
       "      <th>19</th>\n",
       "      <td>Hydroelectric_capacity_N(MWavg)</td>\n",
       "      <td>0.154914</td>\n",
       "    </tr>\n",
       "    <tr>\n",
       "      <th>20</th>\n",
       "      <td>Hydroelectric_capacity_SE/CW(MWavg)</td>\n",
       "      <td>0.139688</td>\n",
       "    </tr>\n",
       "    <tr>\n",
       "      <th>21</th>\n",
       "      <td>Hydroelectric_capacity_S(MWavg)</td>\n",
       "      <td>0.136320</td>\n",
       "    </tr>\n",
       "    <tr>\n",
       "      <th>33</th>\n",
       "      <td>Total_capacity_N(MWavg)</td>\n",
       "      <td>0.123628</td>\n",
       "    </tr>\n",
       "    <tr>\n",
       "      <th>23</th>\n",
       "      <td>Thermal_capacity_N(MWavg)</td>\n",
       "      <td>0.123281</td>\n",
       "    </tr>\n",
       "    <tr>\n",
       "      <th>30</th>\n",
       "      <td>Solar_capacity_NE(MWavg)</td>\n",
       "      <td>0.112128</td>\n",
       "    </tr>\n",
       "    <tr>\n",
       "      <th>31</th>\n",
       "      <td>Solar_capacity_SE/CW(MWavg)</td>\n",
       "      <td>0.102017</td>\n",
       "    </tr>\n",
       "    <tr>\n",
       "      <th>32</th>\n",
       "      <td>Total_capacity_NE(MWavg)</td>\n",
       "      <td>0.088260</td>\n",
       "    </tr>\n",
       "    <tr>\n",
       "      <th>26</th>\n",
       "      <td>Wind_capacity_NE(MWavg)</td>\n",
       "      <td>0.087123</td>\n",
       "    </tr>\n",
       "    <tr>\n",
       "      <th>14</th>\n",
       "      <td>Wind_Generation_N(MWavg)</td>\n",
       "      <td>0.086727</td>\n",
       "    </tr>\n",
       "    <tr>\n",
       "      <th>0</th>\n",
       "      <td>DateTime</td>\n",
       "      <td>0.078647</td>\n",
       "    </tr>\n",
       "    <tr>\n",
       "      <th>34</th>\n",
       "      <td>Total_capacity_SE/CW(MWavg)</td>\n",
       "      <td>0.077107</td>\n",
       "    </tr>\n",
       "    <tr>\n",
       "      <th>36</th>\n",
       "      <td>Consumption(MWh)_N</td>\n",
       "      <td>0.073928</td>\n",
       "    </tr>\n",
       "    <tr>\n",
       "      <th>35</th>\n",
       "      <td>Total_capacity_S(MWavg)</td>\n",
       "      <td>0.070500</td>\n",
       "    </tr>\n",
       "    <tr>\n",
       "      <th>12</th>\n",
       "      <td>Solar_Generated_SE/CW(MWavg)</td>\n",
       "      <td>0.067273</td>\n",
       "    </tr>\n",
       "    <tr>\n",
       "      <th>6</th>\n",
       "      <td>Hydro_Inflow_N(MWavg)</td>\n",
       "      <td>0.064253</td>\n",
       "    </tr>\n",
       "    <tr>\n",
       "      <th>1</th>\n",
       "      <td>Delivery_Start_Date_Forward_Price</td>\n",
       "      <td>0.058360</td>\n",
       "    </tr>\n",
       "    <tr>\n",
       "      <th>25</th>\n",
       "      <td>Thermal_capacity_S(MWavg)</td>\n",
       "      <td>0.056936</td>\n",
       "    </tr>\n",
       "    <tr>\n",
       "      <th>13</th>\n",
       "      <td>Daily_Sum_Solar_Generated(MWavg)</td>\n",
       "      <td>0.055077</td>\n",
       "    </tr>\n",
       "    <tr>\n",
       "      <th>15</th>\n",
       "      <td>Wind_Generation_NE(MWavg)</td>\n",
       "      <td>0.054894</td>\n",
       "    </tr>\n",
       "    <tr>\n",
       "      <th>17</th>\n",
       "      <td>Wind_Generation_SUM(MWavg)</td>\n",
       "      <td>0.052442</td>\n",
       "    </tr>\n",
       "    <tr>\n",
       "      <th>40</th>\n",
       "      <td>Daily_Sum_Consumption(MWh)</td>\n",
       "      <td>0.052264</td>\n",
       "    </tr>\n",
       "    <tr>\n",
       "      <th>10</th>\n",
       "      <td>Daily_Sum_Hydro_Inflow(MWavg)</td>\n",
       "      <td>0.050601</td>\n",
       "    </tr>\n",
       "    <tr>\n",
       "      <th>4</th>\n",
       "      <td>Min_Settlement_Price_SE(MWh)</td>\n",
       "      <td>0.050091</td>\n",
       "    </tr>\n",
       "    <tr>\n",
       "      <th>37</th>\n",
       "      <td>Consumption(MWh)_NE</td>\n",
       "      <td>0.049302</td>\n",
       "    </tr>\n",
       "    <tr>\n",
       "      <th>16</th>\n",
       "      <td>Wind_Generation_S(MWavg)</td>\n",
       "      <td>0.048862</td>\n",
       "    </tr>\n",
       "    <tr>\n",
       "      <th>39</th>\n",
       "      <td>Consumption(MWh)_SE/CW</td>\n",
       "      <td>0.048523</td>\n",
       "    </tr>\n",
       "    <tr>\n",
       "      <th>24</th>\n",
       "      <td>Thermal_capacity_SE/CW(MWavg)</td>\n",
       "      <td>0.046332</td>\n",
       "    </tr>\n",
       "    <tr>\n",
       "      <th>11</th>\n",
       "      <td>Solar_Generated_NE(MWavg)</td>\n",
       "      <td>0.043906</td>\n",
       "    </tr>\n",
       "    <tr>\n",
       "      <th>9</th>\n",
       "      <td>Hydro_Inflow_SE/CW(MWavg)</td>\n",
       "      <td>0.042337</td>\n",
       "    </tr>\n",
       "    <tr>\n",
       "      <th>2</th>\n",
       "      <td>Average_Settlement_Price_SE/CW(MWh)</td>\n",
       "      <td>0.041197</td>\n",
       "    </tr>\n",
       "    <tr>\n",
       "      <th>38</th>\n",
       "      <td>Consumption(MWh)_S</td>\n",
       "      <td>0.038042</td>\n",
       "    </tr>\n",
       "    <tr>\n",
       "      <th>7</th>\n",
       "      <td>Hydro_Inflow_NE(MWavg)</td>\n",
       "      <td>0.031544</td>\n",
       "    </tr>\n",
       "    <tr>\n",
       "      <th>8</th>\n",
       "      <td>Hydro_Inflow_S(MWavg)</td>\n",
       "      <td>0.027873</td>\n",
       "    </tr>\n",
       "    <tr>\n",
       "      <th>3</th>\n",
       "      <td>Standard_Deviation_Settlement_Price_SE(MWh)</td>\n",
       "      <td>0.022012</td>\n",
       "    </tr>\n",
       "    <tr>\n",
       "      <th>5</th>\n",
       "      <td>Max_Settlement_Price_SE(MWh)</td>\n",
       "      <td>0.021139</td>\n",
       "    </tr>\n",
       "    <tr>\n",
       "      <th>18</th>\n",
       "      <td>Hydroelectric_capacity_NE(MWavg)</td>\n",
       "      <td>0.000000</td>\n",
       "    </tr>\n",
       "    <tr>\n",
       "      <th>29</th>\n",
       "      <td>Nuclear_capacity_SE/CW(MWavg)</td>\n",
       "      <td>0.000000</td>\n",
       "    </tr>\n",
       "    <tr>\n",
       "      <th>27</th>\n",
       "      <td>Wind_capacity_N(MWavg)</td>\n",
       "      <td>0.000000</td>\n",
       "    </tr>\n",
       "  </tbody>\n",
       "</table>\n",
       "</div>"
      ],
      "text/plain": [
       "                                        Feature  Variance\n",
       "22                   Thermal_capacity_NE(MWavg)  0.216878\n",
       "28                       Wind_capacity_S(MWavg)  0.182112\n",
       "19              Hydroelectric_capacity_N(MWavg)  0.154914\n",
       "20          Hydroelectric_capacity_SE/CW(MWavg)  0.139688\n",
       "21              Hydroelectric_capacity_S(MWavg)  0.136320\n",
       "33                      Total_capacity_N(MWavg)  0.123628\n",
       "23                    Thermal_capacity_N(MWavg)  0.123281\n",
       "30                     Solar_capacity_NE(MWavg)  0.112128\n",
       "31                  Solar_capacity_SE/CW(MWavg)  0.102017\n",
       "32                     Total_capacity_NE(MWavg)  0.088260\n",
       "26                      Wind_capacity_NE(MWavg)  0.087123\n",
       "14                     Wind_Generation_N(MWavg)  0.086727\n",
       "0                                      DateTime  0.078647\n",
       "34                  Total_capacity_SE/CW(MWavg)  0.077107\n",
       "36                           Consumption(MWh)_N  0.073928\n",
       "35                      Total_capacity_S(MWavg)  0.070500\n",
       "12                 Solar_Generated_SE/CW(MWavg)  0.067273\n",
       "6                         Hydro_Inflow_N(MWavg)  0.064253\n",
       "1             Delivery_Start_Date_Forward_Price  0.058360\n",
       "25                    Thermal_capacity_S(MWavg)  0.056936\n",
       "13             Daily_Sum_Solar_Generated(MWavg)  0.055077\n",
       "15                    Wind_Generation_NE(MWavg)  0.054894\n",
       "17                   Wind_Generation_SUM(MWavg)  0.052442\n",
       "40                   Daily_Sum_Consumption(MWh)  0.052264\n",
       "10                Daily_Sum_Hydro_Inflow(MWavg)  0.050601\n",
       "4                  Min_Settlement_Price_SE(MWh)  0.050091\n",
       "37                          Consumption(MWh)_NE  0.049302\n",
       "16                     Wind_Generation_S(MWavg)  0.048862\n",
       "39                       Consumption(MWh)_SE/CW  0.048523\n",
       "24                Thermal_capacity_SE/CW(MWavg)  0.046332\n",
       "11                    Solar_Generated_NE(MWavg)  0.043906\n",
       "9                     Hydro_Inflow_SE/CW(MWavg)  0.042337\n",
       "2           Average_Settlement_Price_SE/CW(MWh)  0.041197\n",
       "38                           Consumption(MWh)_S  0.038042\n",
       "7                        Hydro_Inflow_NE(MWavg)  0.031544\n",
       "8                         Hydro_Inflow_S(MWavg)  0.027873\n",
       "3   Standard_Deviation_Settlement_Price_SE(MWh)  0.022012\n",
       "5                  Max_Settlement_Price_SE(MWh)  0.021139\n",
       "18             Hydroelectric_capacity_NE(MWavg)  0.000000\n",
       "29                Nuclear_capacity_SE/CW(MWavg)  0.000000\n",
       "27                       Wind_capacity_N(MWavg)  0.000000"
      ]
     },
     "execution_count": 37,
     "metadata": {},
     "output_type": "execute_result"
    }
   ],
   "source": [
    "# Display results\n",
    "features_df = pd.DataFrame({\n",
    "    'Feature': X_train.columns,\n",
    "    'Variance': variances\n",
    "}).sort_values(by='Variance', ascending=False)\n",
    "features_df"
   ]
  },
  {
   "cell_type": "code",
   "execution_count": 38,
   "metadata": {},
   "outputs": [
    {
     "data": {
      "text/plain": [
       "(48466, 38)"
      ]
     },
     "execution_count": 38,
     "metadata": {},
     "output_type": "execute_result"
    }
   ],
   "source": [
    "X_train_scaled = X_train.loc[:, sel.get_support()]\n",
    "X_train_scaled.shape"
   ]
  },
  {
   "cell_type": "markdown",
   "metadata": {},
   "source": [
    "Select KBest"
   ]
  },
  {
   "cell_type": "code",
   "execution_count": 39,
   "metadata": {},
   "outputs": [
    {
     "data": {
      "text/plain": [
       "Index(['DateTime', 'Delivery_Start_Date_Forward_Price',\n",
       "       'Average_Settlement_Price_SE/CW(MWh)', 'Min_Settlement_Price_SE(MWh)',\n",
       "       'Max_Settlement_Price_SE(MWh)', 'Hydro_Inflow_S(MWavg)',\n",
       "       'Daily_Sum_Hydro_Inflow(MWavg)', 'Solar_Generated_NE(MWavg)',\n",
       "       'Solar_Generated_SE/CW(MWavg)', 'Daily_Sum_Solar_Generated(MWavg)',\n",
       "       'Wind_Generation_NE(MWavg)', 'Wind_Generation_SUM(MWavg)',\n",
       "       'Hydroelectric_capacity_N(MWavg)', 'Hydroelectric_capacity_S(MWavg)',\n",
       "       'Thermal_capacity_NE(MWavg)', 'Thermal_capacity_N(MWavg)',\n",
       "       'Thermal_capacity_SE/CW(MWavg)', 'Thermal_capacity_S(MWavg)',\n",
       "       'Wind_capacity_NE(MWavg)', 'Wind_capacity_S(MWavg)',\n",
       "       'Solar_capacity_NE(MWavg)', 'Solar_capacity_SE/CW(MWavg)',\n",
       "       'Total_capacity_NE(MWavg)', 'Total_capacity_N(MWavg)',\n",
       "       'Total_capacity_SE/CW(MWavg)', 'Total_capacity_S(MWavg)',\n",
       "       'Consumption(MWh)_N', 'Consumption(MWh)_NE', 'Consumption(MWh)_SE/CW',\n",
       "       'Daily_Sum_Consumption(MWh)'],\n",
       "      dtype='object')"
      ]
     },
     "execution_count": 39,
     "metadata": {},
     "output_type": "execute_result"
    }
   ],
   "source": [
    "from sklearn.datasets import load_iris\n",
    "from sklearn.feature_selection import SelectKBest\n",
    "from sklearn.feature_selection import f_classif\n",
    "selector = SelectKBest(f_classif, k=30)\n",
    "X_new = selector.fit_transform(X_train_scaled, y_train)\n",
    "# Get selected column names\n",
    "selected_columns = X_train_scaled.columns[selector.get_support()]\n",
    "selected_columns"
   ]
  },
  {
   "cell_type": "code",
   "execution_count": 40,
   "metadata": {},
   "outputs": [
    {
     "data": {
      "text/plain": [
       "Index(['Consumption(MWh)_N', 'Consumption(MWh)_NE', 'Consumption(MWh)_S',\n",
       "       'Consumption(MWh)_SE/CW', 'Daily_Sum_Consumption(MWh)'],\n",
       "      dtype='object')"
      ]
     },
     "execution_count": 40,
     "metadata": {},
     "output_type": "execute_result"
    }
   ],
   "source": [
    "from sklearn.feature_selection import RFE\n",
    "from sklearn.linear_model import LinearRegression\n",
    "# Recursive Feature Elimination (RFE) with Logistic Regression\n",
    "estimator = LinearRegression()\n",
    "selector = RFE(estimator, n_features_to_select=5)\n",
    "X_selected = selector.fit_transform(X_train_scaled, y_train)\n",
    "selected_columns = X_train_scaled.columns[selector.get_support()] \n",
    "selected_columns"
   ]
  },
  {
   "cell_type": "code",
   "execution_count": 41,
   "metadata": {},
   "outputs": [
    {
     "data": {
      "text/plain": [
       "(48466, 33)"
      ]
     },
     "execution_count": 41,
     "metadata": {},
     "output_type": "execute_result"
    }
   ],
   "source": [
    "mask = selector.get_support()  # True for selected features\n",
    "# Columns NOT selected (invert the mask)\n",
    "unselected_columns =X_train_scaled.columns[~mask]\n",
    "\n",
    "# Dataset with only unselected features\n",
    "X_train_scaled = X_train_scaled[unselected_columns]\n",
    "X_train_scaled.shape"
   ]
  }
 ],
 "metadata": {
  "kernelspec": {
   "display_name": "Python 3",
   "language": "python",
   "name": "python3"
  },
  "language_info": {
   "codemirror_mode": {
    "name": "ipython",
    "version": 3
   },
   "file_extension": ".py",
   "mimetype": "text/x-python",
   "name": "python",
   "nbconvert_exporter": "python",
   "pygments_lexer": "ipython3",
   "version": "3.10.11"
  }
 },
 "nbformat": 4,
 "nbformat_minor": 2
}
